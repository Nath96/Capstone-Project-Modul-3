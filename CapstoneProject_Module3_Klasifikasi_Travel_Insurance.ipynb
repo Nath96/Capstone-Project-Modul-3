{
  "cells": [
    {
      "cell_type": "markdown",
      "metadata": {
        "id": "view-in-github",
        "colab_type": "text"
      },
      "source": [
        "<a href=\"https://colab.research.google.com/github/Nath96/Capstone-Project-Modul-3/blob/main/CapstoneProject_Module3_Klasifikasi_Travel_Insurance.ipynb\" target=\"_parent\"><img src=\"https://colab.research.google.com/assets/colab-badge.svg\" alt=\"Open In Colab\"/></a>"
      ]
    },
    {
      "cell_type": "markdown",
      "metadata": {
        "id": "jX5pO69P8nNU"
      },
      "source": [
        "# Travel Insurance Analytics"
      ]
    },
    {
      "cell_type": "markdown",
      "metadata": {
        "id": "zEsgYvah8nNe"
      },
      "source": [
        "## Business Problem Understanding"
      ]
    },
    {
      "cell_type": "markdown",
      "metadata": {
        "id": "vIgdv8sX8nNf"
      },
      "source": [
        "**Context**  \n",
        "\n",
        "Sebuah perusahaan pihak ketiga menawarkan jasa asuransi perjalanan berbasis di Singapura. Asuransi perjalanan adalah jenis asuransi yang menanggung biaya dan kerugian yang terkait dengan perjalanan. Ini adalah perlindungan yang berguna bagi mereka yang bepergian di dalam negeri atau di luar negeri.\n",
        "\n",
        "Terdapat 2 tipe agensi yaitu Travel Agency dan Airlines, dengan 26 produk atau paket sehingga memberikan pilihan kepada konsumen untuk membeli asuransi perjalanan\n",
        "\n",
        "Banyak faktor yang mempengaruhi klaim pada setiap polis asuransi. Tentunya hal tersebut perlu dipahami juga oleh agency karena berhubungan dengan profit yang bisa didapatkan.\n",
        "\n",
        "\n",
        "Target :\n",
        "\n",
        "0 :  Tidak mengajukan klaim\n",
        "\n",
        "1 :  Mengajukan klaim"
      ]
    },
    {
      "cell_type": "markdown",
      "metadata": {
        "id": "Zb5rWKhL8nNh"
      },
      "source": [
        "**Problem Statement :**\n",
        "\n",
        "Perusahaan ingin mengetahui apa/faktor/variabel apa yang membuat tertanggung mengklaim polis. \n",
        "\n",
        "**Goals :**\n",
        "\n",
        "Perusahaan ingin memiliki kemampuan untuk memprediksi apakah polis asuransi diklaim berdasarkan beberapa fitur sehingga dapat menjadi pertimbangan bagi perusahaan untuk menawarkan produk yang tepat dan memaksimalkan Keuntungan. \n",
        "\n",
        "\n",
        "**Analytic Approach :**\n",
        "\n",
        "Menganalisis data untuk menemukan pola yang membedakan tertanggung mengklaim polis dan yang tidak mengklaim.\n",
        "\n",
        "Kemudian kita akan membangun model klasifikasi yang akan membantu perusahaan untuk dapat memprediksi probabilitas seorang tertanggung mengklaim atau tidak."
      ]
    },
    {
      "cell_type": "markdown",
      "metadata": {
        "id": "5aFNKv9b8nN0"
      },
      "source": [
        "## Data Understanding"
      ]
    },
    {
      "cell_type": "markdown",
      "metadata": {
        "id": "NwwIcsO58nN3"
      },
      "source": [
        "**Attributes Information**\n",
        "\n",
        "| **Attribute** | **Data Type** | **Description** |\n",
        "| --- | --- | --- |\n",
        "| Agency | Object | Name of agency |\n",
        "| Agency Type | Object | Type of travel insurance agencies |\n",
        "| Distribution Channel | Object | Distribution channel of travel insurance agencies|\n",
        "| Product Name | Object | Name of the travel insurance products  |\n",
        "| Gender | Object | Gender of insured |\n",
        "| Duration | Integer | Duration of travel  |\n",
        "| Destination | Object | Destination of travel |\n",
        "| Net Sales| Float | Amount of sales of travel insurance policies |\n",
        "| Commision (in value) | Float | Commission received for travel insurance agency|\n",
        "| Age | Integer | Age of insured|\n",
        "| Claim | Object | Claim Status |\n",
        "\n",
        "<br>\n",
        "Dari info tersebut, kita tahu bahwa ada 4 kolom numerik dan 7 kategori\n"
      ]
    },
    {
      "cell_type": "code",
      "source": [
        "# Library\n",
        "import pandas as pd\n",
        "import matplotlib.pyplot as plt\n",
        "import seaborn as sns\n",
        "import numpy as np\n",
        "\n",
        "# Visualization\n",
        "import pandas as pd\n",
        "import numpy as np\n",
        "from plotly.offline import iplot, init_notebook_mode\n",
        "import plotly.express as px\n",
        "init_notebook_mode(connected=True)\n",
        "import seaborn as sns\n",
        "import matplotlib.pyplot as plt\n",
        "from palettable.colorbrewer.qualitative import Pastel1_7\n",
        "\n",
        "# Feature Engineering\n",
        "from sklearn.preprocessing import LabelEncoder, StandardScaler\n",
        "from sklearn.decomposition import PCA\n",
        "from sklearn.preprocessing import MinMaxScaler\n",
        "\n",
        "from sklearn.pipeline import Pipeline\n",
        "from sklearn.impute import SimpleImputer\n",
        "from sklearn.compose import ColumnTransformer\n",
        "\n",
        "# Model Selection\n",
        "from sklearn.model_selection import train_test_split\n",
        "from sklearn.metrics import classification_report, confusion_matrix, roc_curve, auc, accuracy_score\n",
        "from sklearn.metrics import accuracy_score, recall_score, confusion_matrix\n",
        "from sklearn.metrics import f1_score\n",
        "from sklearn.linear_model import LogisticRegression\n",
        "from sklearn.ensemble import RandomForestClassifier\n",
        "from sklearn.neighbors import KNeighborsClassifier\n",
        "from sklearn.tree import DecisionTreeClassifier\n",
        "from xgboost import XGBClassifier\n",
        "import lightgbm as lgb\n",
        "\n",
        "\n",
        "# Imbalance Dataset\n",
        "from imblearn.over_sampling import SMOTE \n",
        "\n",
        "# Ignore Warning\n",
        "import sys\n",
        "import warnings\n",
        "if not sys.warnoptions:\n",
        "    warnings.simplefilter(\"ignore\")"
      ],
      "metadata": {
        "id": "URTem0y2VDWd",
        "colab": {
          "base_uri": "https://localhost:8080/",
          "height": 17
        },
        "outputId": "c5affdf5-16e5-44a1-8bd0-e3e23bd0d38c"
      },
      "execution_count": null,
      "outputs": [
        {
          "output_type": "display_data",
          "data": {
            "text/html": [
              "        <script type=\"text/javascript\">\n",
              "        window.PlotlyConfig = {MathJaxConfig: 'local'};\n",
              "        if (window.MathJax) {MathJax.Hub.Config({SVG: {font: \"STIX-Web\"}});}\n",
              "        if (typeof require !== 'undefined') {\n",
              "        require.undef(\"plotly\");\n",
              "        requirejs.config({\n",
              "            paths: {\n",
              "                'plotly': ['https://cdn.plot.ly/plotly-2.8.3.min']\n",
              "            }\n",
              "        });\n",
              "        require(['plotly'], function(Plotly) {\n",
              "            window._Plotly = Plotly;\n",
              "        });\n",
              "        }\n",
              "        </script>\n",
              "        "
            ]
          },
          "metadata": {}
        }
      ]
    },
    {
      "cell_type": "code",
      "execution_count": null,
      "metadata": {
        "id": "9YKVktqv8nN6",
        "outputId": "558b6e54-43ea-4318-df04-3699506815c0",
        "colab": {
          "base_uri": "https://localhost:8080/",
          "height": 374
        }
      },
      "outputs": [
        {
          "output_type": "execute_result",
          "data": {
            "text/plain": [
              "  Agency    Agency Type Distribution Channel              Product Name Gender  \\\n",
              "0    C2B       Airlines               Online        Annual Silver Plan      F   \n",
              "1    EPX  Travel Agency               Online         Cancellation Plan    NaN   \n",
              "2    JZI       Airlines               Online                Basic Plan      M   \n",
              "3    EPX  Travel Agency               Online  2 way Comprehensive Plan    NaN   \n",
              "4    C2B       Airlines               Online               Bronze Plan      M   \n",
              "\n",
              "   Duration    Destination  Net Sales  Commision (in value)  Age Claim  \n",
              "0       365      SINGAPORE      216.0                  54.0   57    No  \n",
              "1         4       MALAYSIA       10.0                   0.0   33    No  \n",
              "2        19          INDIA       22.0                   7.7   26    No  \n",
              "3        20  UNITED STATES      112.0                   0.0   59    No  \n",
              "4         8      SINGAPORE       16.0                   4.0   28    No  "
            ],
            "text/html": [
              "\n",
              "  <div id=\"df-487c8714-4879-4152-be88-533713867d47\">\n",
              "    <div class=\"colab-df-container\">\n",
              "      <div>\n",
              "<style scoped>\n",
              "    .dataframe tbody tr th:only-of-type {\n",
              "        vertical-align: middle;\n",
              "    }\n",
              "\n",
              "    .dataframe tbody tr th {\n",
              "        vertical-align: top;\n",
              "    }\n",
              "\n",
              "    .dataframe thead th {\n",
              "        text-align: right;\n",
              "    }\n",
              "</style>\n",
              "<table border=\"1\" class=\"dataframe\">\n",
              "  <thead>\n",
              "    <tr style=\"text-align: right;\">\n",
              "      <th></th>\n",
              "      <th>Agency</th>\n",
              "      <th>Agency Type</th>\n",
              "      <th>Distribution Channel</th>\n",
              "      <th>Product Name</th>\n",
              "      <th>Gender</th>\n",
              "      <th>Duration</th>\n",
              "      <th>Destination</th>\n",
              "      <th>Net Sales</th>\n",
              "      <th>Commision (in value)</th>\n",
              "      <th>Age</th>\n",
              "      <th>Claim</th>\n",
              "    </tr>\n",
              "  </thead>\n",
              "  <tbody>\n",
              "    <tr>\n",
              "      <th>0</th>\n",
              "      <td>C2B</td>\n",
              "      <td>Airlines</td>\n",
              "      <td>Online</td>\n",
              "      <td>Annual Silver Plan</td>\n",
              "      <td>F</td>\n",
              "      <td>365</td>\n",
              "      <td>SINGAPORE</td>\n",
              "      <td>216.0</td>\n",
              "      <td>54.0</td>\n",
              "      <td>57</td>\n",
              "      <td>No</td>\n",
              "    </tr>\n",
              "    <tr>\n",
              "      <th>1</th>\n",
              "      <td>EPX</td>\n",
              "      <td>Travel Agency</td>\n",
              "      <td>Online</td>\n",
              "      <td>Cancellation Plan</td>\n",
              "      <td>NaN</td>\n",
              "      <td>4</td>\n",
              "      <td>MALAYSIA</td>\n",
              "      <td>10.0</td>\n",
              "      <td>0.0</td>\n",
              "      <td>33</td>\n",
              "      <td>No</td>\n",
              "    </tr>\n",
              "    <tr>\n",
              "      <th>2</th>\n",
              "      <td>JZI</td>\n",
              "      <td>Airlines</td>\n",
              "      <td>Online</td>\n",
              "      <td>Basic Plan</td>\n",
              "      <td>M</td>\n",
              "      <td>19</td>\n",
              "      <td>INDIA</td>\n",
              "      <td>22.0</td>\n",
              "      <td>7.7</td>\n",
              "      <td>26</td>\n",
              "      <td>No</td>\n",
              "    </tr>\n",
              "    <tr>\n",
              "      <th>3</th>\n",
              "      <td>EPX</td>\n",
              "      <td>Travel Agency</td>\n",
              "      <td>Online</td>\n",
              "      <td>2 way Comprehensive Plan</td>\n",
              "      <td>NaN</td>\n",
              "      <td>20</td>\n",
              "      <td>UNITED STATES</td>\n",
              "      <td>112.0</td>\n",
              "      <td>0.0</td>\n",
              "      <td>59</td>\n",
              "      <td>No</td>\n",
              "    </tr>\n",
              "    <tr>\n",
              "      <th>4</th>\n",
              "      <td>C2B</td>\n",
              "      <td>Airlines</td>\n",
              "      <td>Online</td>\n",
              "      <td>Bronze Plan</td>\n",
              "      <td>M</td>\n",
              "      <td>8</td>\n",
              "      <td>SINGAPORE</td>\n",
              "      <td>16.0</td>\n",
              "      <td>4.0</td>\n",
              "      <td>28</td>\n",
              "      <td>No</td>\n",
              "    </tr>\n",
              "  </tbody>\n",
              "</table>\n",
              "</div>\n",
              "      <button class=\"colab-df-convert\" onclick=\"convertToInteractive('df-487c8714-4879-4152-be88-533713867d47')\"\n",
              "              title=\"Convert this dataframe to an interactive table.\"\n",
              "              style=\"display:none;\">\n",
              "        \n",
              "  <svg xmlns=\"http://www.w3.org/2000/svg\" height=\"24px\"viewBox=\"0 0 24 24\"\n",
              "       width=\"24px\">\n",
              "    <path d=\"M0 0h24v24H0V0z\" fill=\"none\"/>\n",
              "    <path d=\"M18.56 5.44l.94 2.06.94-2.06 2.06-.94-2.06-.94-.94-2.06-.94 2.06-2.06.94zm-11 1L8.5 8.5l.94-2.06 2.06-.94-2.06-.94L8.5 2.5l-.94 2.06-2.06.94zm10 10l.94 2.06.94-2.06 2.06-.94-2.06-.94-.94-2.06-.94 2.06-2.06.94z\"/><path d=\"M17.41 7.96l-1.37-1.37c-.4-.4-.92-.59-1.43-.59-.52 0-1.04.2-1.43.59L10.3 9.45l-7.72 7.72c-.78.78-.78 2.05 0 2.83L4 21.41c.39.39.9.59 1.41.59.51 0 1.02-.2 1.41-.59l7.78-7.78 2.81-2.81c.8-.78.8-2.07 0-2.86zM5.41 20L4 18.59l7.72-7.72 1.47 1.35L5.41 20z\"/>\n",
              "  </svg>\n",
              "      </button>\n",
              "      \n",
              "  <style>\n",
              "    .colab-df-container {\n",
              "      display:flex;\n",
              "      flex-wrap:wrap;\n",
              "      gap: 12px;\n",
              "    }\n",
              "\n",
              "    .colab-df-convert {\n",
              "      background-color: #E8F0FE;\n",
              "      border: none;\n",
              "      border-radius: 50%;\n",
              "      cursor: pointer;\n",
              "      display: none;\n",
              "      fill: #1967D2;\n",
              "      height: 32px;\n",
              "      padding: 0 0 0 0;\n",
              "      width: 32px;\n",
              "    }\n",
              "\n",
              "    .colab-df-convert:hover {\n",
              "      background-color: #E2EBFA;\n",
              "      box-shadow: 0px 1px 2px rgba(60, 64, 67, 0.3), 0px 1px 3px 1px rgba(60, 64, 67, 0.15);\n",
              "      fill: #174EA6;\n",
              "    }\n",
              "\n",
              "    [theme=dark] .colab-df-convert {\n",
              "      background-color: #3B4455;\n",
              "      fill: #D2E3FC;\n",
              "    }\n",
              "\n",
              "    [theme=dark] .colab-df-convert:hover {\n",
              "      background-color: #434B5C;\n",
              "      box-shadow: 0px 1px 3px 1px rgba(0, 0, 0, 0.15);\n",
              "      filter: drop-shadow(0px 1px 2px rgba(0, 0, 0, 0.3));\n",
              "      fill: #FFFFFF;\n",
              "    }\n",
              "  </style>\n",
              "\n",
              "      <script>\n",
              "        const buttonEl =\n",
              "          document.querySelector('#df-487c8714-4879-4152-be88-533713867d47 button.colab-df-convert');\n",
              "        buttonEl.style.display =\n",
              "          google.colab.kernel.accessAllowed ? 'block' : 'none';\n",
              "\n",
              "        async function convertToInteractive(key) {\n",
              "          const element = document.querySelector('#df-487c8714-4879-4152-be88-533713867d47');\n",
              "          const dataTable =\n",
              "            await google.colab.kernel.invokeFunction('convertToInteractive',\n",
              "                                                     [key], {});\n",
              "          if (!dataTable) return;\n",
              "\n",
              "          const docLinkHtml = 'Like what you see? Visit the ' +\n",
              "            '<a target=\"_blank\" href=https://colab.research.google.com/notebooks/data_table.ipynb>data table notebook</a>'\n",
              "            + ' to learn more about interactive tables.';\n",
              "          element.innerHTML = '';\n",
              "          dataTable['output_type'] = 'display_data';\n",
              "          await google.colab.output.renderOutput(dataTable, element);\n",
              "          const docLink = document.createElement('div');\n",
              "          docLink.innerHTML = docLinkHtml;\n",
              "          element.appendChild(docLink);\n",
              "        }\n",
              "      </script>\n",
              "    </div>\n",
              "  </div>\n",
              "  "
            ]
          },
          "metadata": {},
          "execution_count": 5
        }
      ],
      "source": [
        "#Load Dataset\n",
        "df = pd.read_csv('data_travel_insurance.csv') \n",
        "df.head()"
      ]
    },
    {
      "cell_type": "code",
      "source": [
        "df.rename(columns={ 'Agency Type':'Agency_Type', 'Distribution Channel':'Distribution_Channel', 'Product Name':'Product_Name','Net Sales':'Net_Sales', 'Commision (in value)':'Commision'},inplace=True)"
      ],
      "metadata": {
        "id": "joOJX1aO4ZJ9"
      },
      "execution_count": null,
      "outputs": []
    },
    {
      "cell_type": "code",
      "execution_count": null,
      "metadata": {
        "id": "gm7nJIT98nN7",
        "outputId": "1cbffd87-cbed-47b5-fdc9-4c8863c3e65f",
        "colab": {
          "base_uri": "https://localhost:8080/"
        }
      },
      "outputs": [
        {
          "output_type": "stream",
          "name": "stdout",
          "text": [
            "<class 'pandas.core.frame.DataFrame'>\n",
            "RangeIndex: 44328 entries, 0 to 44327\n",
            "Data columns (total 11 columns):\n",
            " #   Column                Non-Null Count  Dtype  \n",
            "---  ------                --------------  -----  \n",
            " 0   Agency                44328 non-null  object \n",
            " 1   Agency_Type           44328 non-null  object \n",
            " 2   Distribution_Channel  44328 non-null  object \n",
            " 3   Product_Name          44328 non-null  object \n",
            " 4   Gender                12681 non-null  object \n",
            " 5   Duration              44328 non-null  int64  \n",
            " 6   Destination           44328 non-null  object \n",
            " 7   Net_Sales             44328 non-null  float64\n",
            " 8   Commision             44328 non-null  float64\n",
            " 9   Age                   44328 non-null  int64  \n",
            " 10  Claim                 44328 non-null  object \n",
            "dtypes: float64(2), int64(2), object(7)\n",
            "memory usage: 3.7+ MB\n"
          ]
        }
      ],
      "source": [
        "# Count and Datatype for each Column\n",
        "df.info()"
      ]
    },
    {
      "cell_type": "markdown",
      "metadata": {
        "id": "dso1bPZq8nN8"
      },
      "source": [
        "## Data Cleaning\n",
        "\n"
      ]
    },
    {
      "cell_type": "code",
      "execution_count": null,
      "metadata": {
        "id": "pH81a8GP8nN8",
        "outputId": "4143c01a-8bea-459e-d6a5-a3e03cc04b59",
        "colab": {
          "base_uri": "https://localhost:8080/"
        }
      },
      "outputs": [
        {
          "output_type": "execute_result",
          "data": {
            "text/plain": [
              "<bound method NDFrame._add_numeric_operations.<locals>.any of Agency                      0\n",
              "Agency_Type                 0\n",
              "Distribution_Channel        0\n",
              "Product_Name                0\n",
              "Gender                  31647\n",
              "Duration                    0\n",
              "Destination                 0\n",
              "Net_Sales                   0\n",
              "Commision                   0\n",
              "Age                         0\n",
              "Claim                       0\n",
              "dtype: int64>"
            ]
          },
          "metadata": {},
          "execution_count": 8
        }
      ],
      "source": [
        "#Check Missing Value\n",
        "df.isnull().sum().any"
      ]
    },
    {
      "cell_type": "markdown",
      "metadata": {
        "id": "U_nJBkzi8nN9"
      },
      "source": [
        "Banyak data yang hilang/kosong di fitur 'Gender'. Selanjutnya, kita perlu mengobservasi lebih lanjut terkait data-data yang hilang tersebut agar dapat menentukan langkah treatment yang tepat untuk mengatasinya.\n",
        "\n",
        "Jika ditinjau berdasar domain knowledge, fitur 'Gender' tidak memiliki relevansi dan kepentingan untuk analisis prediktif ataupun untuk membangun model prediktif "
      ]
    },
    {
      "cell_type": "code",
      "execution_count": null,
      "metadata": {
        "id": "meFTclGU8nN9",
        "colab": {
          "base_uri": "https://localhost:8080/",
          "height": 340
        },
        "outputId": "555e1e6b-e9f4-4a3a-f707-4bd4a2d8d28a"
      },
      "outputs": [
        {
          "output_type": "execute_result",
          "data": {
            "text/plain": [
              "  Agency    Agency_Type Distribution_Channel              Product_Name  \\\n",
              "0    C2B       Airlines               Online        Annual Silver Plan   \n",
              "1    EPX  Travel Agency               Online         Cancellation Plan   \n",
              "2    JZI       Airlines               Online                Basic Plan   \n",
              "3    EPX  Travel Agency               Online  2 way Comprehensive Plan   \n",
              "4    C2B       Airlines               Online               Bronze Plan   \n",
              "\n",
              "   Duration    Destination  Net_Sales  Commision  Age Claim  \n",
              "0       365      SINGAPORE      216.0       54.0   57    No  \n",
              "1         4       MALAYSIA       10.0        0.0   33    No  \n",
              "2        19          INDIA       22.0        7.7   26    No  \n",
              "3        20  UNITED STATES      112.0        0.0   59    No  \n",
              "4         8      SINGAPORE       16.0        4.0   28    No  "
            ],
            "text/html": [
              "\n",
              "  <div id=\"df-c2ba0a41-59a7-4165-8b20-3feef5b1c2b8\">\n",
              "    <div class=\"colab-df-container\">\n",
              "      <div>\n",
              "<style scoped>\n",
              "    .dataframe tbody tr th:only-of-type {\n",
              "        vertical-align: middle;\n",
              "    }\n",
              "\n",
              "    .dataframe tbody tr th {\n",
              "        vertical-align: top;\n",
              "    }\n",
              "\n",
              "    .dataframe thead th {\n",
              "        text-align: right;\n",
              "    }\n",
              "</style>\n",
              "<table border=\"1\" class=\"dataframe\">\n",
              "  <thead>\n",
              "    <tr style=\"text-align: right;\">\n",
              "      <th></th>\n",
              "      <th>Agency</th>\n",
              "      <th>Agency_Type</th>\n",
              "      <th>Distribution_Channel</th>\n",
              "      <th>Product_Name</th>\n",
              "      <th>Duration</th>\n",
              "      <th>Destination</th>\n",
              "      <th>Net_Sales</th>\n",
              "      <th>Commision</th>\n",
              "      <th>Age</th>\n",
              "      <th>Claim</th>\n",
              "    </tr>\n",
              "  </thead>\n",
              "  <tbody>\n",
              "    <tr>\n",
              "      <th>0</th>\n",
              "      <td>C2B</td>\n",
              "      <td>Airlines</td>\n",
              "      <td>Online</td>\n",
              "      <td>Annual Silver Plan</td>\n",
              "      <td>365</td>\n",
              "      <td>SINGAPORE</td>\n",
              "      <td>216.0</td>\n",
              "      <td>54.0</td>\n",
              "      <td>57</td>\n",
              "      <td>No</td>\n",
              "    </tr>\n",
              "    <tr>\n",
              "      <th>1</th>\n",
              "      <td>EPX</td>\n",
              "      <td>Travel Agency</td>\n",
              "      <td>Online</td>\n",
              "      <td>Cancellation Plan</td>\n",
              "      <td>4</td>\n",
              "      <td>MALAYSIA</td>\n",
              "      <td>10.0</td>\n",
              "      <td>0.0</td>\n",
              "      <td>33</td>\n",
              "      <td>No</td>\n",
              "    </tr>\n",
              "    <tr>\n",
              "      <th>2</th>\n",
              "      <td>JZI</td>\n",
              "      <td>Airlines</td>\n",
              "      <td>Online</td>\n",
              "      <td>Basic Plan</td>\n",
              "      <td>19</td>\n",
              "      <td>INDIA</td>\n",
              "      <td>22.0</td>\n",
              "      <td>7.7</td>\n",
              "      <td>26</td>\n",
              "      <td>No</td>\n",
              "    </tr>\n",
              "    <tr>\n",
              "      <th>3</th>\n",
              "      <td>EPX</td>\n",
              "      <td>Travel Agency</td>\n",
              "      <td>Online</td>\n",
              "      <td>2 way Comprehensive Plan</td>\n",
              "      <td>20</td>\n",
              "      <td>UNITED STATES</td>\n",
              "      <td>112.0</td>\n",
              "      <td>0.0</td>\n",
              "      <td>59</td>\n",
              "      <td>No</td>\n",
              "    </tr>\n",
              "    <tr>\n",
              "      <th>4</th>\n",
              "      <td>C2B</td>\n",
              "      <td>Airlines</td>\n",
              "      <td>Online</td>\n",
              "      <td>Bronze Plan</td>\n",
              "      <td>8</td>\n",
              "      <td>SINGAPORE</td>\n",
              "      <td>16.0</td>\n",
              "      <td>4.0</td>\n",
              "      <td>28</td>\n",
              "      <td>No</td>\n",
              "    </tr>\n",
              "  </tbody>\n",
              "</table>\n",
              "</div>\n",
              "      <button class=\"colab-df-convert\" onclick=\"convertToInteractive('df-c2ba0a41-59a7-4165-8b20-3feef5b1c2b8')\"\n",
              "              title=\"Convert this dataframe to an interactive table.\"\n",
              "              style=\"display:none;\">\n",
              "        \n",
              "  <svg xmlns=\"http://www.w3.org/2000/svg\" height=\"24px\"viewBox=\"0 0 24 24\"\n",
              "       width=\"24px\">\n",
              "    <path d=\"M0 0h24v24H0V0z\" fill=\"none\"/>\n",
              "    <path d=\"M18.56 5.44l.94 2.06.94-2.06 2.06-.94-2.06-.94-.94-2.06-.94 2.06-2.06.94zm-11 1L8.5 8.5l.94-2.06 2.06-.94-2.06-.94L8.5 2.5l-.94 2.06-2.06.94zm10 10l.94 2.06.94-2.06 2.06-.94-2.06-.94-.94-2.06-.94 2.06-2.06.94z\"/><path d=\"M17.41 7.96l-1.37-1.37c-.4-.4-.92-.59-1.43-.59-.52 0-1.04.2-1.43.59L10.3 9.45l-7.72 7.72c-.78.78-.78 2.05 0 2.83L4 21.41c.39.39.9.59 1.41.59.51 0 1.02-.2 1.41-.59l7.78-7.78 2.81-2.81c.8-.78.8-2.07 0-2.86zM5.41 20L4 18.59l7.72-7.72 1.47 1.35L5.41 20z\"/>\n",
              "  </svg>\n",
              "      </button>\n",
              "      \n",
              "  <style>\n",
              "    .colab-df-container {\n",
              "      display:flex;\n",
              "      flex-wrap:wrap;\n",
              "      gap: 12px;\n",
              "    }\n",
              "\n",
              "    .colab-df-convert {\n",
              "      background-color: #E8F0FE;\n",
              "      border: none;\n",
              "      border-radius: 50%;\n",
              "      cursor: pointer;\n",
              "      display: none;\n",
              "      fill: #1967D2;\n",
              "      height: 32px;\n",
              "      padding: 0 0 0 0;\n",
              "      width: 32px;\n",
              "    }\n",
              "\n",
              "    .colab-df-convert:hover {\n",
              "      background-color: #E2EBFA;\n",
              "      box-shadow: 0px 1px 2px rgba(60, 64, 67, 0.3), 0px 1px 3px 1px rgba(60, 64, 67, 0.15);\n",
              "      fill: #174EA6;\n",
              "    }\n",
              "\n",
              "    [theme=dark] .colab-df-convert {\n",
              "      background-color: #3B4455;\n",
              "      fill: #D2E3FC;\n",
              "    }\n",
              "\n",
              "    [theme=dark] .colab-df-convert:hover {\n",
              "      background-color: #434B5C;\n",
              "      box-shadow: 0px 1px 3px 1px rgba(0, 0, 0, 0.15);\n",
              "      filter: drop-shadow(0px 1px 2px rgba(0, 0, 0, 0.3));\n",
              "      fill: #FFFFFF;\n",
              "    }\n",
              "  </style>\n",
              "\n",
              "      <script>\n",
              "        const buttonEl =\n",
              "          document.querySelector('#df-c2ba0a41-59a7-4165-8b20-3feef5b1c2b8 button.colab-df-convert');\n",
              "        buttonEl.style.display =\n",
              "          google.colab.kernel.accessAllowed ? 'block' : 'none';\n",
              "\n",
              "        async function convertToInteractive(key) {\n",
              "          const element = document.querySelector('#df-c2ba0a41-59a7-4165-8b20-3feef5b1c2b8');\n",
              "          const dataTable =\n",
              "            await google.colab.kernel.invokeFunction('convertToInteractive',\n",
              "                                                     [key], {});\n",
              "          if (!dataTable) return;\n",
              "\n",
              "          const docLinkHtml = 'Like what you see? Visit the ' +\n",
              "            '<a target=\"_blank\" href=https://colab.research.google.com/notebooks/data_table.ipynb>data table notebook</a>'\n",
              "            + ' to learn more about interactive tables.';\n",
              "          element.innerHTML = '';\n",
              "          dataTable['output_type'] = 'display_data';\n",
              "          await google.colab.output.renderOutput(dataTable, element);\n",
              "          const docLink = document.createElement('div');\n",
              "          docLink.innerHTML = docLinkHtml;\n",
              "          element.appendChild(docLink);\n",
              "        }\n",
              "      </script>\n",
              "    </div>\n",
              "  </div>\n",
              "  "
            ]
          },
          "metadata": {},
          "execution_count": 10
        }
      ],
      "source": [
        "df=df.drop(['Gender'], axis=1)\n",
        "df.head()"
      ]
    },
    {
      "cell_type": "markdown",
      "metadata": {
        "id": "YyiIXk-e8nOr"
      },
      "source": [
        "## Data Analysis"
      ]
    },
    {
      "cell_type": "markdown",
      "source": [
        "Untuk lebih memahami data di setiap kolom, mari buat daftar nilai unik dari setiap kolom."
      ],
      "metadata": {
        "id": "jnFcVKp4FY4P"
      }
    },
    {
      "cell_type": "code",
      "source": [
        "column_keys=df.select_dtypes(include=['object']).columns.tolist()\n",
        "for key in column_keys:\n",
        "    print('Unique values of',key,'are: ')\n",
        "    print(df[key].unique(),end='\\n')\n",
        "    print(end='\\n')"
      ],
      "metadata": {
        "colab": {
          "base_uri": "https://localhost:8080/"
        },
        "id": "8UBX2I_sFZWK",
        "outputId": "36e8c4fa-2851-4577-f5f8-5f9f1a6ce3e3"
      },
      "execution_count": null,
      "outputs": [
        {
          "output_type": "stream",
          "name": "stdout",
          "text": [
            "Unique values of Agency are: \n",
            "['C2B' 'EPX' 'JZI' 'CWT' 'LWC' 'ART' 'CSR' 'SSI' 'RAB' 'KML' 'TST' 'TTW'\n",
            " 'JWT' 'ADM' 'CCR' 'CBH']\n",
            "\n",
            "Unique values of Agency_Type are: \n",
            "['Airlines' 'Travel Agency']\n",
            "\n",
            "Unique values of Distribution_Channel are: \n",
            "['Online' 'Offline']\n",
            "\n",
            "Unique values of Product_Name are: \n",
            "['Annual Silver Plan' 'Cancellation Plan' 'Basic Plan'\n",
            " '2 way Comprehensive Plan' 'Bronze Plan' '1 way Comprehensive Plan'\n",
            " 'Rental Vehicle Excess Insurance' 'Single Trip Travel Protect Gold'\n",
            " 'Silver Plan' 'Value Plan' '24 Protect' 'Annual Travel Protect Gold'\n",
            " 'Comprehensive Plan' 'Ticket Protector' 'Travel Cruise Protect'\n",
            " 'Single Trip Travel Protect Silver' 'Individual Comprehensive Plan'\n",
            " 'Gold Plan' 'Annual Gold Plan' 'Child Comprehensive Plan' 'Premier Plan'\n",
            " 'Annual Travel Protect Silver' 'Single Trip Travel Protect Platinum'\n",
            " 'Annual Travel Protect Platinum' 'Spouse or Parents Comprehensive Plan'\n",
            " 'Travel Cruise Protect Family']\n",
            "\n",
            "Unique values of Destination are: \n",
            "['SINGAPORE' 'MALAYSIA' 'INDIA' 'UNITED STATES' 'KOREA, REPUBLIC OF'\n",
            " 'THAILAND' 'GERMANY' 'JAPAN' 'INDONESIA' 'VIET NAM' 'AUSTRALIA' 'FINLAND'\n",
            " 'UNITED KINGDOM' 'SRI LANKA' 'SPAIN' 'HONG KONG' 'MACAO' 'CHINA'\n",
            " 'UNITED ARAB EMIRATES' 'IRAN, ISLAMIC REPUBLIC OF'\n",
            " 'TAIWAN, PROVINCE OF CHINA' 'POLAND' 'CANADA' 'OMAN' 'PHILIPPINES'\n",
            " 'GREECE' 'BELGIUM' 'TURKEY' 'BRUNEI DARUSSALAM' 'DENMARK' 'SWITZERLAND'\n",
            " 'NETHERLANDS' 'SWEDEN' 'MYANMAR' 'KENYA' 'CZECH REPUBLIC' 'FRANCE'\n",
            " 'RUSSIAN FEDERATION' 'PAKISTAN' 'ARGENTINA'\n",
            " 'TANZANIA, UNITED REPUBLIC OF' 'SERBIA' 'ITALY' 'CROATIA' 'NEW ZEALAND'\n",
            " 'PERU' 'MONGOLIA' 'CAMBODIA' 'QATAR' 'NORWAY' 'LUXEMBOURG' 'MALTA'\n",
            " \"LAO PEOPLE'S DEMOCRATIC REPUBLIC\" 'ISRAEL' 'SAUDI ARABIA' 'AUSTRIA'\n",
            " 'PORTUGAL' 'NEPAL' 'UKRAINE' 'ESTONIA' 'ICELAND' 'BRAZIL' 'MEXICO'\n",
            " 'CAYMAN ISLANDS' 'PANAMA' 'BANGLADESH' 'TURKMENISTAN' 'BAHRAIN'\n",
            " 'KAZAKHSTAN' 'TUNISIA' 'IRELAND' 'ETHIOPIA' 'NORTHERN MARIANA ISLANDS'\n",
            " 'MALDIVES' 'SOUTH AFRICA' 'VENEZUELA' 'COSTA RICA' 'JORDAN' 'MALI'\n",
            " 'CYPRUS' 'MAURITIUS' 'LEBANON' 'KUWAIT' 'AZERBAIJAN' 'HUNGARY' 'BHUTAN'\n",
            " 'BELARUS' 'MOROCCO' 'ECUADOR' 'UZBEKISTAN' 'CHILE' 'FIJI'\n",
            " 'PAPUA NEW GUINEA' 'ANGOLA' 'FRENCH POLYNESIA' 'NIGERIA'\n",
            " 'MACEDONIA, THE FORMER YUGOSLAV REPUBLIC OF' 'NAMIBIA' 'GEORGIA'\n",
            " 'COLOMBIA' 'SLOVENIA' 'EGYPT' 'ZIMBABWE' 'BULGARIA' 'BERMUDA' 'URUGUAY'\n",
            " 'GUINEA' 'GHANA' 'BOLIVIA' 'TRINIDAD AND TOBAGO' 'VANUATU' 'GUAM'\n",
            " 'UGANDA' 'JAMAICA' 'LATVIA' 'ROMANIA' 'REPUBLIC OF MONTENEGRO'\n",
            " 'KYRGYZSTAN' 'GUADELOUPE' 'ZAMBIA' 'RWANDA' 'BOTSWANA' 'GUYANA'\n",
            " 'LITHUANIA' 'GUINEA-BISSAU' 'SENEGAL' 'CAMEROON' 'TIBET' 'SAMOA'\n",
            " 'PUERTO RICO' 'TAJIKISTAN' 'ARMENIA'\n",
            " \"KOREA, DEMOCRATIC PEOPLE'S REPUBLIC OF\" 'FAROE ISLANDS'\n",
            " 'DOMINICAN REPUBLIC' 'MOLDOVA, REPUBLIC OF' 'BENIN' 'REUNION']\n",
            "\n",
            "Unique values of Claim are: \n",
            "['No' 'Yes']\n",
            "\n"
          ]
        }
      ]
    },
    {
      "cell_type": "markdown",
      "metadata": {
        "id": "mK9QjOo-FkHV"
      },
      "source": [
        "#### Number of Claim "
      ]
    },
    {
      "cell_type": "code",
      "execution_count": null,
      "metadata": {
        "outputId": "e0939046-7434-48b4-9b8c-6d3faedd4dbf",
        "colab": {
          "base_uri": "https://localhost:8080/",
          "height": 295
        },
        "id": "maA5nx9vFkHV"
      },
      "outputs": [
        {
          "output_type": "display_data",
          "data": {
            "text/plain": [
              "<Figure size 432x288 with 1 Axes>"
            ],
            "image/png": "[encoded data removed]"
          },
          "metadata": {
            "needs_background": "light"
          }
        }
      ],
      "source": [
        "df_claims = df.groupby(by=[\"Claim\"]).size().reset_index(name=\"counts\")\n",
        "plt.bar(df_claims['Claim'], df_claims['counts'], color ='grey',width = 0.4)\n",
        "plt.xlabel(\"Claim\")\n",
        "plt.ylabel(\"Number of people insured\")\n",
        "plt.title(\"People Insured who requested for claim vs who did not\")\n",
        "plt.show()"
      ]
    },
    {
      "cell_type": "code",
      "source": [
        "results = df[\"Claim\"].value_counts(dropna=False)\n",
        "results"
      ],
      "metadata": {
        "colab": {
          "base_uri": "https://localhost:8080/"
        },
        "outputId": "031a925b-1dca-4ea2-a2d4-4fde153cf95c",
        "id": "HimV8ZgYFkHW"
      },
      "execution_count": null,
      "outputs": [
        {
          "output_type": "execute_result",
          "data": {
            "text/plain": [
              "No     43651\n",
              "Yes      677\n",
              "Name: Claim, dtype: int64"
            ]
          },
          "metadata": {},
          "execution_count": 13
        }
      ]
    },
    {
      "cell_type": "code",
      "source": [
        "print(\"Percentage of claims that are Yes: \" , results[1]/(results[0] + results[1]))"
      ],
      "metadata": {
        "colab": {
          "base_uri": "https://localhost:8080/"
        },
        "outputId": "3719cb2f-fe27-4ebb-adbb-4234e3c112ab",
        "id": "G7kRWhJuFkHW"
      },
      "execution_count": null,
      "outputs": [
        {
          "output_type": "stream",
          "name": "stdout",
          "text": [
            "Percentage of claims that are Yes:  0.01527251398664501\n"
          ]
        }
      ]
    },
    {
      "cell_type": "markdown",
      "metadata": {
        "id": "ZqM1L5wAFkHW"
      },
      "source": [
        "Terlihat dari Bar Plot tersebut, bahwa  677 individu yang mengajukan klaim, sekitar 1,5% dari seluruh pemegang polis."
      ]
    },
    {
      "cell_type": "markdown",
      "metadata": {
        "id": "w4mEUa-gFzua"
      },
      "source": [
        "#### Age Distribution"
      ]
    },
    {
      "cell_type": "code",
      "execution_count": null,
      "metadata": {
        "outputId": "62adb899-d03d-4124-ba82-c78c5fa3fd36",
        "colab": {
          "base_uri": "https://localhost:8080/",
          "height": 350
        },
        "id": "E2lBhL7BFzub"
      },
      "outputs": [
        {
          "output_type": "display_data",
          "data": {
            "text/plain": [
              "<Figure size 720x360 with 1 Axes>"
            ],
            "image/png": "[encoded data removed]"
          },
          "metadata": {
            "needs_background": "light"
          }
        }
      ],
      "source": [
        "# histogram of age distribution\n",
        "fig = plt.figure(figsize = (10, 5))\n",
        "plt.hist(df['Age'])\n",
        "plt.xlabel(\"Age\")\n",
        "plt.ylabel(\"Number of people\")\n",
        "plt.title(\"Distribution of Age\")\n",
        "plt.show()"
      ]
    },
    {
      "cell_type": "markdown",
      "metadata": {
        "id": "Yh6BhltZFzub"
      },
      "source": [
        "Dari grafik tersebut, mayoritas orang yang memilih asuransi perjalanan berusia 35 hingga 50 tahun."
      ]
    },
    {
      "cell_type": "markdown",
      "source": [
        "#### Insurance Agencies "
      ],
      "metadata": {
        "id": "cQFxRLemF8ig"
      }
    },
    {
      "cell_type": "code",
      "source": [
        "df2 = df.groupby(by=[\"Agency\"]).size().reset_index(name=\"counts\")\n",
        "fig = plt.figure(figsize = (10, 5))\n",
        "plt.bar(df2['Agency'], df2['counts'], color ='maroon', width = 0.4)\n",
        "plt.xlabel(\"Agency\")\n",
        "plt.ylabel(\"Number of people insured\")\n",
        "plt.title(\"People insured in different Insurance Agencies\")\n",
        "plt.show()"
      ],
      "metadata": {
        "colab": {
          "base_uri": "https://localhost:8080/",
          "height": 350
        },
        "outputId": "d707f069-22da-4d1b-e6e6-17157266faa4",
        "id": "3HX9Q2tzF8ig"
      },
      "execution_count": null,
      "outputs": [
        {
          "output_type": "display_data",
          "data": {
            "text/plain": [
              "<Figure size 720x360 with 1 Axes>"
            ],
            "image/png": "[encoded data removed]"
          },
          "metadata": {
            "needs_background": "light"
          }
        }
      ]
    },
    {
      "cell_type": "markdown",
      "source": [
        "Mayoritas orang diasuransikan di bawah agen EPX."
      ],
      "metadata": {
        "id": "nKYqo0WmF8ig"
      }
    },
    {
      "cell_type": "markdown",
      "source": [
        "#### Where are most claims coming from?"
      ],
      "metadata": {
        "id": "_W8_EToSGCQ8"
      }
    },
    {
      "cell_type": "code",
      "source": [
        "df5=df.loc[df['Claim']=='Yes']\n",
        "df6= df5.groupby(by=[\"Destination\"]).size().reset_index(name=\"counts\")\n",
        "df7=df6.nlargest(5,['counts'])\n",
        "my_circle = plt.Circle((0, 0), 0.6, color='white')\n",
        "plt.pie(df7['counts'], labels=df7['Destination'], autopct='%1.1f%%', colors=Pastel1_7.hex_colors)\n",
        "plt.title('Top 5 countries where insured are raising claim requests')\n",
        "p = plt.gcf()\n",
        "p.gca().add_artist(my_circle)\n",
        "plt.show()"
      ],
      "metadata": {
        "colab": {
          "base_uri": "https://localhost:8080/",
          "height": 264
        },
        "outputId": "f3697e4a-2ae3-419f-b8ee-0cc964c86ec9",
        "id": "vQw-FXZxGCQ9"
      },
      "execution_count": null,
      "outputs": [
        {
          "output_type": "display_data",
          "data": {
            "text/plain": [
              "<Figure size 432x288 with 1 Axes>"
            ],
            "image/png": "[encoded data removed]"
          },
          "metadata": {}
        }
      ]
    },
    {
      "cell_type": "markdown",
      "source": [
        "Jumlah klaim tertinggi berasal dari Singapura, jumlah klaim dari Singapura sekitar 4 kali lebih besar dari gabungan semua negara lain."
      ],
      "metadata": {
        "id": "YBggWmQTID_g"
      }
    },
    {
      "cell_type": "code",
      "source": [
        "df8= df5.groupby(by=[\"Product_Name\"]).size().reset_index(name=\"counts\")\n",
        "df9=df8.nlargest(5,['counts'])\n",
        "my_circle = plt.Circle((0, 0), 0.6, color='white')\n",
        "plt.pie(df9['counts'], labels=df9['Product_Name'], autopct='%1.1f%%',colors=Pastel1_7.hex_colors)\n",
        "plt.title('Top 5 plans where insured are raising claim requests')\n",
        "p = plt.gcf()\n",
        "p.gca().add_artist(my_circle)\n",
        "plt.show()"
      ],
      "metadata": {
        "colab": {
          "base_uri": "https://localhost:8080/",
          "height": 264
        },
        "id": "6T3T_Jo6IJJ0",
        "outputId": "9dfc6223-35a2-4495-f10d-8f36381914f1"
      },
      "execution_count": null,
      "outputs": [
        {
          "output_type": "display_data",
          "data": {
            "text/plain": [
              "<Figure size 432x288 with 1 Axes>"
            ],
            "image/png": "[encoded data removed]"
          },
          "metadata": {}
        }
      ]
    },
    {
      "cell_type": "markdown",
      "source": [
        "The Bronze and Annual Silver plans merupakan setengah dari semua klaim.\n"
      ],
      "metadata": {
        "id": "4kNH6yFEIP7l"
      }
    },
    {
      "cell_type": "code",
      "source": [
        "df10= df5.groupby(by=[\"Agency\"]).size().reset_index(name=\"counts\")\n",
        "df11=df10.nlargest(5,['counts'])\n",
        "my_circle = plt.Circle((0, 0), 0.6, color='white')\n",
        "plt.pie(df11['counts'], labels=df11['Agency'], autopct='%1.1f%%', colors=Pastel1_7.hex_colors)\n",
        "plt.title('Top 5 Agencies where insured are raising claim requests')\n",
        "p = plt.gcf()\n",
        "p.gca().add_artist(my_circle)\n",
        "plt.show()"
      ],
      "metadata": {
        "colab": {
          "base_uri": "https://localhost:8080/",
          "height": 264
        },
        "id": "cPusvRZdIVps",
        "outputId": "26fb093f-a8d6-4730-dd3e-6d35a659de57"
      },
      "execution_count": null,
      "outputs": [
        {
          "output_type": "display_data",
          "data": {
            "text/plain": [
              "<Figure size 432x288 with 1 Axes>"
            ],
            "image/png": "[encoded data removed]"
          },
          "metadata": {}
        }
      ]
    },
    {
      "cell_type": "markdown",
      "source": [
        "Sebagian besar klaim datang dari dua agensi, C2B dan EPX."
      ],
      "metadata": {
        "id": "NCSgvy8jIjkt"
      }
    },
    {
      "cell_type": "markdown",
      "source": [
        "#### Mari kita periksa beberapa fitur"
      ],
      "metadata": {
        "id": "l4whIl7yIq_T"
      }
    },
    {
      "cell_type": "code",
      "source": [
        "hist=df.hist()\n"
      ],
      "metadata": {
        "colab": {
          "base_uri": "https://localhost:8080/",
          "height": 281
        },
        "id": "3XwniwjBIxFt",
        "outputId": "6bca16fb-e7b6-4700-8898-89562d3f38ae"
      },
      "execution_count": null,
      "outputs": [
        {
          "output_type": "display_data",
          "data": {
            "text/plain": [
              "<Figure size 432x288 with 4 Axes>"
            ],
            "image/png": "[encoded data removed]"
          },
          "metadata": {
            "needs_background": "light"
          }
        }
      ]
    },
    {
      "cell_type": "code",
      "source": [
        "df.describe()\n"
      ],
      "metadata": {
        "colab": {
          "base_uri": "https://localhost:8080/",
          "height": 300
        },
        "id": "EHm_R7V8I09t",
        "outputId": "bc407eff-4042-4c1b-a3dd-24c5c50675a3"
      },
      "execution_count": null,
      "outputs": [
        {
          "output_type": "execute_result",
          "data": {
            "text/plain": [
              "           Duration     Net_Sales     Commision           Age\n",
              "count  44328.000000  44328.000000  44328.000000  44328.000000\n",
              "mean      49.424292     40.550948      9.707692     39.925600\n",
              "std      109.153961     48.661970     19.625637     13.954926\n",
              "min       -1.000000   -357.500000      0.000000      0.000000\n",
              "25%        9.000000     18.000000      0.000000     35.000000\n",
              "50%       22.000000     26.500000      0.000000     36.000000\n",
              "75%       53.000000     48.000000     11.550000     43.000000\n",
              "max     4881.000000    810.000000    283.500000    118.000000"
            ],
            "text/html": [
              "\n",
              "  <div id=\"df-063a17e9-a3b8-468b-9fc0-6391ce837f88\">\n",
              "    <div class=\"colab-df-container\">\n",
              "      <div>\n",
              "<style scoped>\n",
              "    .dataframe tbody tr th:only-of-type {\n",
              "        vertical-align: middle;\n",
              "    }\n",
              "\n",
              "    .dataframe tbody tr th {\n",
              "        vertical-align: top;\n",
              "    }\n",
              "\n",
              "    .dataframe thead th {\n",
              "        text-align: right;\n",
              "    }\n",
              "</style>\n",
              "<table border=\"1\" class=\"dataframe\">\n",
              "  <thead>\n",
              "    <tr style=\"text-align: right;\">\n",
              "      <th></th>\n",
              "      <th>Duration</th>\n",
              "      <th>Net_Sales</th>\n",
              "      <th>Commision</th>\n",
              "      <th>Age</th>\n",
              "    </tr>\n",
              "  </thead>\n",
              "  <tbody>\n",
              "    <tr>\n",
              "      <th>count</th>\n",
              "      <td>44328.000000</td>\n",
              "      <td>44328.000000</td>\n",
              "      <td>44328.000000</td>\n",
              "      <td>44328.000000</td>\n",
              "    </tr>\n",
              "    <tr>\n",
              "      <th>mean</th>\n",
              "      <td>49.424292</td>\n",
              "      <td>40.550948</td>\n",
              "      <td>9.707692</td>\n",
              "      <td>39.925600</td>\n",
              "    </tr>\n",
              "    <tr>\n",
              "      <th>std</th>\n",
              "      <td>109.153961</td>\n",
              "      <td>48.661970</td>\n",
              "      <td>19.625637</td>\n",
              "      <td>13.954926</td>\n",
              "    </tr>\n",
              "    <tr>\n",
              "      <th>min</th>\n",
              "      <td>-1.000000</td>\n",
              "      <td>-357.500000</td>\n",
              "      <td>0.000000</td>\n",
              "      <td>0.000000</td>\n",
              "    </tr>\n",
              "    <tr>\n",
              "      <th>25%</th>\n",
              "      <td>9.000000</td>\n",
              "      <td>18.000000</td>\n",
              "      <td>0.000000</td>\n",
              "      <td>35.000000</td>\n",
              "    </tr>\n",
              "    <tr>\n",
              "      <th>50%</th>\n",
              "      <td>22.000000</td>\n",
              "      <td>26.500000</td>\n",
              "      <td>0.000000</td>\n",
              "      <td>36.000000</td>\n",
              "    </tr>\n",
              "    <tr>\n",
              "      <th>75%</th>\n",
              "      <td>53.000000</td>\n",
              "      <td>48.000000</td>\n",
              "      <td>11.550000</td>\n",
              "      <td>43.000000</td>\n",
              "    </tr>\n",
              "    <tr>\n",
              "      <th>max</th>\n",
              "      <td>4881.000000</td>\n",
              "      <td>810.000000</td>\n",
              "      <td>283.500000</td>\n",
              "      <td>118.000000</td>\n",
              "    </tr>\n",
              "  </tbody>\n",
              "</table>\n",
              "</div>\n",
              "      <button class=\"colab-df-convert\" onclick=\"convertToInteractive('df-063a17e9-a3b8-468b-9fc0-6391ce837f88')\"\n",
              "              title=\"Convert this dataframe to an interactive table.\"\n",
              "              style=\"display:none;\">\n",
              "        \n",
              "  <svg xmlns=\"http://www.w3.org/2000/svg\" height=\"24px\"viewBox=\"0 0 24 24\"\n",
              "       width=\"24px\">\n",
              "    <path d=\"M0 0h24v24H0V0z\" fill=\"none\"/>\n",
              "    <path d=\"M18.56 5.44l.94 2.06.94-2.06 2.06-.94-2.06-.94-.94-2.06-.94 2.06-2.06.94zm-11 1L8.5 8.5l.94-2.06 2.06-.94-2.06-.94L8.5 2.5l-.94 2.06-2.06.94zm10 10l.94 2.06.94-2.06 2.06-.94-2.06-.94-.94-2.06-.94 2.06-2.06.94z\"/><path d=\"M17.41 7.96l-1.37-1.37c-.4-.4-.92-.59-1.43-.59-.52 0-1.04.2-1.43.59L10.3 9.45l-7.72 7.72c-.78.78-.78 2.05 0 2.83L4 21.41c.39.39.9.59 1.41.59.51 0 1.02-.2 1.41-.59l7.78-7.78 2.81-2.81c.8-.78.8-2.07 0-2.86zM5.41 20L4 18.59l7.72-7.72 1.47 1.35L5.41 20z\"/>\n",
              "  </svg>\n",
              "      </button>\n",
              "      \n",
              "  <style>\n",
              "    .colab-df-container {\n",
              "      display:flex;\n",
              "      flex-wrap:wrap;\n",
              "      gap: 12px;\n",
              "    }\n",
              "\n",
              "    .colab-df-convert {\n",
              "      background-color: #E8F0FE;\n",
              "      border: none;\n",
              "      border-radius: 50%;\n",
              "      cursor: pointer;\n",
              "      display: none;\n",
              "      fill: #1967D2;\n",
              "      height: 32px;\n",
              "      padding: 0 0 0 0;\n",
              "      width: 32px;\n",
              "    }\n",
              "\n",
              "    .colab-df-convert:hover {\n",
              "      background-color: #E2EBFA;\n",
              "      box-shadow: 0px 1px 2px rgba(60, 64, 67, 0.3), 0px 1px 3px 1px rgba(60, 64, 67, 0.15);\n",
              "      fill: #174EA6;\n",
              "    }\n",
              "\n",
              "    [theme=dark] .colab-df-convert {\n",
              "      background-color: #3B4455;\n",
              "      fill: #D2E3FC;\n",
              "    }\n",
              "\n",
              "    [theme=dark] .colab-df-convert:hover {\n",
              "      background-color: #434B5C;\n",
              "      box-shadow: 0px 1px 3px 1px rgba(0, 0, 0, 0.15);\n",
              "      filter: drop-shadow(0px 1px 2px rgba(0, 0, 0, 0.3));\n",
              "      fill: #FFFFFF;\n",
              "    }\n",
              "  </style>\n",
              "\n",
              "      <script>\n",
              "        const buttonEl =\n",
              "          document.querySelector('#df-063a17e9-a3b8-468b-9fc0-6391ce837f88 button.colab-df-convert');\n",
              "        buttonEl.style.display =\n",
              "          google.colab.kernel.accessAllowed ? 'block' : 'none';\n",
              "\n",
              "        async function convertToInteractive(key) {\n",
              "          const element = document.querySelector('#df-063a17e9-a3b8-468b-9fc0-6391ce837f88');\n",
              "          const dataTable =\n",
              "            await google.colab.kernel.invokeFunction('convertToInteractive',\n",
              "                                                     [key], {});\n",
              "          if (!dataTable) return;\n",
              "\n",
              "          const docLinkHtml = 'Like what you see? Visit the ' +\n",
              "            '<a target=\"_blank\" href=https://colab.research.google.com/notebooks/data_table.ipynb>data table notebook</a>'\n",
              "            + ' to learn more about interactive tables.';\n",
              "          element.innerHTML = '';\n",
              "          dataTable['output_type'] = 'display_data';\n",
              "          await google.colab.output.renderOutput(dataTable, element);\n",
              "          const docLink = document.createElement('div');\n",
              "          docLink.innerHTML = docLinkHtml;\n",
              "          element.appendChild(docLink);\n",
              "        }\n",
              "      </script>\n",
              "    </div>\n",
              "  </div>\n",
              "  "
            ]
          },
          "metadata": {},
          "execution_count": 24
        }
      ]
    },
    {
      "cell_type": "markdown",
      "source": [
        "#### Duration of Trip\n",
        "Ada beberapa nilai negatif yang perlu dihilangkan, yaitu Duration dan Net_Sales\n"
      ],
      "metadata": {
        "id": "YOfavh9BI4ps"
      }
    },
    {
      "cell_type": "code",
      "source": [
        "fig = plt.figure(figsize =(6,4 ))\n",
        "plt.boxplot(df['Duration'])\n",
        "plt.show()\n",
        "\n",
        "index_duration = df[df['Duration'] < 0 ].index\n",
        "df.drop(index_duration, inplace = True)"
      ],
      "metadata": {
        "colab": {
          "base_uri": "https://localhost:8080/",
          "height": 265
        },
        "id": "2jBzSn77I-ta",
        "outputId": "1d6a99f4-bff5-46db-aecb-2f8a352650ff"
      },
      "execution_count": null,
      "outputs": [
        {
          "output_type": "display_data",
          "data": {
            "text/plain": [
              "<Figure size 432x288 with 1 Axes>"
            ],
            "image/png": "[encoded data removed]"
          },
          "metadata": {
            "needs_background": "light"
          }
        }
      ]
    },
    {
      "cell_type": "code",
      "source": [
        "boxplot1 = df.boxplot(column=['Net_Sales'])"
      ],
      "metadata": {
        "colab": {
          "base_uri": "https://localhost:8080/",
          "height": 266
        },
        "id": "C7MXireRJEh_",
        "outputId": "6fd2e199-a8ed-4b58-d271-74ebb4a7babf"
      },
      "execution_count": null,
      "outputs": [
        {
          "output_type": "display_data",
          "data": {
            "text/plain": [
              "<Figure size 432x288 with 1 Axes>"
            ],
            "image/png": "[encoded data removed]"
          },
          "metadata": {
            "needs_background": "light"
          }
        }
      ]
    },
    {
      "cell_type": "markdown",
      "source": [
        "Nilai-nilai negatif sudah disingkirkan."
      ],
      "metadata": {
        "id": "ZfdgE4O0JVjW"
      }
    },
    {
      "cell_type": "code",
      "source": [
        "df[\"Agency\"].value_counts(dropna=False)"
      ],
      "metadata": {
        "colab": {
          "base_uri": "https://localhost:8080/"
        },
        "id": "eafikeWOJpSR",
        "outputId": "5d3ed612-78e9-4585-8152-b230bd7d3d73"
      },
      "execution_count": null,
      "outputs": [
        {
          "output_type": "execute_result",
          "data": {
            "text/plain": [
              "EPX    24656\n",
              "CWT     5980\n",
              "C2B     5753\n",
              "JZI     4431\n",
              "SSI      765\n",
              "JWT      522\n",
              "RAB      513\n",
              "LWC      455\n",
              "TST      354\n",
              "KML      281\n",
              "ART      229\n",
              "CCR      126\n",
              "TTW       69\n",
              "CBH       69\n",
              "CSR       68\n",
              "ADM       55\n",
              "Name: Agency, dtype: int64"
            ]
          },
          "metadata": {},
          "execution_count": 27
        }
      ]
    },
    {
      "cell_type": "code",
      "source": [
        "df[\"Agency_Type\"].value_counts(dropna=False)"
      ],
      "metadata": {
        "colab": {
          "base_uri": "https://localhost:8080/"
        },
        "id": "gouQNZomJsN0",
        "outputId": "fc51d8c9-54c5-47cb-eee7-357c3ef1b219"
      },
      "execution_count": null,
      "outputs": [
        {
          "output_type": "execute_result",
          "data": {
            "text/plain": [
              "Travel Agency    32113\n",
              "Airlines         12213\n",
              "Name: Agency_Type, dtype: int64"
            ]
          },
          "metadata": {},
          "execution_count": 28
        }
      ]
    },
    {
      "cell_type": "code",
      "source": [
        "df[\"Distribution_Channel\"].value_counts(dropna=False)"
      ],
      "metadata": {
        "colab": {
          "base_uri": "https://localhost:8080/"
        },
        "id": "bjlkRNguJvK5",
        "outputId": "39da7a59-c296-420b-823f-c7aa2ae35ae0"
      },
      "execution_count": null,
      "outputs": [
        {
          "output_type": "execute_result",
          "data": {
            "text/plain": [
              "Online     43570\n",
              "Offline      756\n",
              "Name: Distribution_Channel, dtype: int64"
            ]
          },
          "metadata": {},
          "execution_count": 29
        }
      ]
    },
    {
      "cell_type": "markdown",
      "source": [
        "Di bawah ini kami mencari kemungkinan hubungan antara fitur yang berbeda"
      ],
      "metadata": {
        "id": "qj5Oa6I8J1EU"
      }
    },
    {
      "cell_type": "code",
      "source": [
        "sns.pairplot(df, hue=\"Claim\")"
      ],
      "metadata": {
        "colab": {
          "base_uri": "https://localhost:8080/",
          "height": 634
        },
        "id": "23Tn03J9KDdJ",
        "outputId": "724799a0-83d3-40b0-d4de-1d9748a94a1c"
      },
      "execution_count": null,
      "outputs": [
        {
          "output_type": "execute_result",
          "data": {
            "text/plain": [
              "<seaborn.axisgrid.PairGrid at 0x7f5c929b2290>"
            ]
          },
          "metadata": {},
          "execution_count": 30
        },
        {
          "output_type": "display_data",
          "data": {
            "text/plain": [
              "<Figure size 772x720 with 20 Axes>"
            ],
            "image/png": "[encoded data removed]"
          },
          "metadata": {
            "needs_background": "light"
          }
        }
      ]
    },
    {
      "cell_type": "markdown",
      "source": [
        "Terlihat ada hubungan linier yang kuat antara Net_Sales dan Komisi"
      ],
      "metadata": {
        "id": "RCvUskGfK2sP"
      }
    },
    {
      "cell_type": "markdown",
      "source": [
        "#### Correlation Map"
      ],
      "metadata": {
        "id": "TQcsRU-fK5Xt"
      }
    },
    {
      "cell_type": "code",
      "source": [
        "fig, ax = plt.subplots(figsize=(15, 10))\n",
        "sns.heatmap(df.corr(), annot=True, ax=ax)"
      ],
      "metadata": {
        "colab": {
          "base_uri": "https://localhost:8080/",
          "height": 509
        },
        "id": "61c21DIsK743",
        "outputId": "d9f6e1a9-fe46-4d0f-d0e9-f29a65d8ae6d"
      },
      "execution_count": null,
      "outputs": [
        {
          "output_type": "execute_result",
          "data": {
            "text/plain": [
              "<matplotlib.axes._subplots.AxesSubplot at 0x7f5c8a687110>"
            ]
          },
          "metadata": {},
          "execution_count": 38
        },
        {
          "output_type": "display_data",
          "data": {
            "text/plain": [
              "<Figure size 1080x720 with 2 Axes>"
            ],
            "image/png": "[encoded data removed]"
          },
          "metadata": {
            "needs_background": "light"
          }
        }
      ]
    },
    {
      "cell_type": "markdown",
      "source": [
        "Kita bisa gunakan argumen annot=True untuk menampilkan korelasi antar atribut. Jika nilai korelasi mendekati 1 maka hubungan antar atribut semakin tinggi\n",
        "\n"
      ],
      "metadata": {
        "id": "ypdKbmmrcsUB"
      }
    },
    {
      "cell_type": "markdown",
      "metadata": {
        "id": "ekuZkZaX8nOv"
      },
      "source": [
        "## Data Preparation "
      ]
    },
    {
      "cell_type": "code",
      "source": [
        "df.head()"
      ],
      "metadata": {
        "colab": {
          "base_uri": "https://localhost:8080/",
          "height": 340
        },
        "id": "s_-_x-ygVKbd",
        "outputId": "ae043f94-e81e-4b98-8285-ea9623778bce"
      },
      "execution_count": null,
      "outputs": [
        {
          "output_type": "execute_result",
          "data": {
            "text/plain": [
              "  Agency    Agency_Type Distribution_Channel              Product_Name  \\\n",
              "0    C2B       Airlines               Online        Annual Silver Plan   \n",
              "1    EPX  Travel Agency               Online         Cancellation Plan   \n",
              "2    JZI       Airlines               Online                Basic Plan   \n",
              "3    EPX  Travel Agency               Online  2 way Comprehensive Plan   \n",
              "4    C2B       Airlines               Online               Bronze Plan   \n",
              "\n",
              "   Duration    Destination  Net_Sales  Commision  Age Claim  \n",
              "0       365      SINGAPORE      216.0       54.0   57    No  \n",
              "1         4       MALAYSIA       10.0        0.0   33    No  \n",
              "2        19          INDIA       22.0        7.7   26    No  \n",
              "3        20  UNITED STATES      112.0        0.0   59    No  \n",
              "4         8      SINGAPORE       16.0        4.0   28    No  "
            ],
            "text/html": [
              "\n",
              "  <div id=\"df-d4d30899-a9bc-4ddd-9c71-b7532e5448df\">\n",
              "    <div class=\"colab-df-container\">\n",
              "      <div>\n",
              "<style scoped>\n",
              "    .dataframe tbody tr th:only-of-type {\n",
              "        vertical-align: middle;\n",
              "    }\n",
              "\n",
              "    .dataframe tbody tr th {\n",
              "        vertical-align: top;\n",
              "    }\n",
              "\n",
              "    .dataframe thead th {\n",
              "        text-align: right;\n",
              "    }\n",
              "</style>\n",
              "<table border=\"1\" class=\"dataframe\">\n",
              "  <thead>\n",
              "    <tr style=\"text-align: right;\">\n",
              "      <th></th>\n",
              "      <th>Agency</th>\n",
              "      <th>Agency_Type</th>\n",
              "      <th>Distribution_Channel</th>\n",
              "      <th>Product_Name</th>\n",
              "      <th>Duration</th>\n",
              "      <th>Destination</th>\n",
              "      <th>Net_Sales</th>\n",
              "      <th>Commision</th>\n",
              "      <th>Age</th>\n",
              "      <th>Claim</th>\n",
              "    </tr>\n",
              "  </thead>\n",
              "  <tbody>\n",
              "    <tr>\n",
              "      <th>0</th>\n",
              "      <td>C2B</td>\n",
              "      <td>Airlines</td>\n",
              "      <td>Online</td>\n",
              "      <td>Annual Silver Plan</td>\n",
              "      <td>365</td>\n",
              "      <td>SINGAPORE</td>\n",
              "      <td>216.0</td>\n",
              "      <td>54.0</td>\n",
              "      <td>57</td>\n",
              "      <td>No</td>\n",
              "    </tr>\n",
              "    <tr>\n",
              "      <th>1</th>\n",
              "      <td>EPX</td>\n",
              "      <td>Travel Agency</td>\n",
              "      <td>Online</td>\n",
              "      <td>Cancellation Plan</td>\n",
              "      <td>4</td>\n",
              "      <td>MALAYSIA</td>\n",
              "      <td>10.0</td>\n",
              "      <td>0.0</td>\n",
              "      <td>33</td>\n",
              "      <td>No</td>\n",
              "    </tr>\n",
              "    <tr>\n",
              "      <th>2</th>\n",
              "      <td>JZI</td>\n",
              "      <td>Airlines</td>\n",
              "      <td>Online</td>\n",
              "      <td>Basic Plan</td>\n",
              "      <td>19</td>\n",
              "      <td>INDIA</td>\n",
              "      <td>22.0</td>\n",
              "      <td>7.7</td>\n",
              "      <td>26</td>\n",
              "      <td>No</td>\n",
              "    </tr>\n",
              "    <tr>\n",
              "      <th>3</th>\n",
              "      <td>EPX</td>\n",
              "      <td>Travel Agency</td>\n",
              "      <td>Online</td>\n",
              "      <td>2 way Comprehensive Plan</td>\n",
              "      <td>20</td>\n",
              "      <td>UNITED STATES</td>\n",
              "      <td>112.0</td>\n",
              "      <td>0.0</td>\n",
              "      <td>59</td>\n",
              "      <td>No</td>\n",
              "    </tr>\n",
              "    <tr>\n",
              "      <th>4</th>\n",
              "      <td>C2B</td>\n",
              "      <td>Airlines</td>\n",
              "      <td>Online</td>\n",
              "      <td>Bronze Plan</td>\n",
              "      <td>8</td>\n",
              "      <td>SINGAPORE</td>\n",
              "      <td>16.0</td>\n",
              "      <td>4.0</td>\n",
              "      <td>28</td>\n",
              "      <td>No</td>\n",
              "    </tr>\n",
              "  </tbody>\n",
              "</table>\n",
              "</div>\n",
              "      <button class=\"colab-df-convert\" onclick=\"convertToInteractive('df-d4d30899-a9bc-4ddd-9c71-b7532e5448df')\"\n",
              "              title=\"Convert this dataframe to an interactive table.\"\n",
              "              style=\"display:none;\">\n",
              "        \n",
              "  <svg xmlns=\"http://www.w3.org/2000/svg\" height=\"24px\"viewBox=\"0 0 24 24\"\n",
              "       width=\"24px\">\n",
              "    <path d=\"M0 0h24v24H0V0z\" fill=\"none\"/>\n",
              "    <path d=\"M18.56 5.44l.94 2.06.94-2.06 2.06-.94-2.06-.94-.94-2.06-.94 2.06-2.06.94zm-11 1L8.5 8.5l.94-2.06 2.06-.94-2.06-.94L8.5 2.5l-.94 2.06-2.06.94zm10 10l.94 2.06.94-2.06 2.06-.94-2.06-.94-.94-2.06-.94 2.06-2.06.94z\"/><path d=\"M17.41 7.96l-1.37-1.37c-.4-.4-.92-.59-1.43-.59-.52 0-1.04.2-1.43.59L10.3 9.45l-7.72 7.72c-.78.78-.78 2.05 0 2.83L4 21.41c.39.39.9.59 1.41.59.51 0 1.02-.2 1.41-.59l7.78-7.78 2.81-2.81c.8-.78.8-2.07 0-2.86zM5.41 20L4 18.59l7.72-7.72 1.47 1.35L5.41 20z\"/>\n",
              "  </svg>\n",
              "      </button>\n",
              "      \n",
              "  <style>\n",
              "    .colab-df-container {\n",
              "      display:flex;\n",
              "      flex-wrap:wrap;\n",
              "      gap: 12px;\n",
              "    }\n",
              "\n",
              "    .colab-df-convert {\n",
              "      background-color: #E8F0FE;\n",
              "      border: none;\n",
              "      border-radius: 50%;\n",
              "      cursor: pointer;\n",
              "      display: none;\n",
              "      fill: #1967D2;\n",
              "      height: 32px;\n",
              "      padding: 0 0 0 0;\n",
              "      width: 32px;\n",
              "    }\n",
              "\n",
              "    .colab-df-convert:hover {\n",
              "      background-color: #E2EBFA;\n",
              "      box-shadow: 0px 1px 2px rgba(60, 64, 67, 0.3), 0px 1px 3px 1px rgba(60, 64, 67, 0.15);\n",
              "      fill: #174EA6;\n",
              "    }\n",
              "\n",
              "    [theme=dark] .colab-df-convert {\n",
              "      background-color: #3B4455;\n",
              "      fill: #D2E3FC;\n",
              "    }\n",
              "\n",
              "    [theme=dark] .colab-df-convert:hover {\n",
              "      background-color: #434B5C;\n",
              "      box-shadow: 0px 1px 3px 1px rgba(0, 0, 0, 0.15);\n",
              "      filter: drop-shadow(0px 1px 2px rgba(0, 0, 0, 0.3));\n",
              "      fill: #FFFFFF;\n",
              "    }\n",
              "  </style>\n",
              "\n",
              "      <script>\n",
              "        const buttonEl =\n",
              "          document.querySelector('#df-d4d30899-a9bc-4ddd-9c71-b7532e5448df button.colab-df-convert');\n",
              "        buttonEl.style.display =\n",
              "          google.colab.kernel.accessAllowed ? 'block' : 'none';\n",
              "\n",
              "        async function convertToInteractive(key) {\n",
              "          const element = document.querySelector('#df-d4d30899-a9bc-4ddd-9c71-b7532e5448df');\n",
              "          const dataTable =\n",
              "            await google.colab.kernel.invokeFunction('convertToInteractive',\n",
              "                                                     [key], {});\n",
              "          if (!dataTable) return;\n",
              "\n",
              "          const docLinkHtml = 'Like what you see? Visit the ' +\n",
              "            '<a target=\"_blank\" href=https://colab.research.google.com/notebooks/data_table.ipynb>data table notebook</a>'\n",
              "            + ' to learn more about interactive tables.';\n",
              "          element.innerHTML = '';\n",
              "          dataTable['output_type'] = 'display_data';\n",
              "          await google.colab.output.renderOutput(dataTable, element);\n",
              "          const docLink = document.createElement('div');\n",
              "          docLink.innerHTML = docLinkHtml;\n",
              "          element.appendChild(docLink);\n",
              "        }\n",
              "      </script>\n",
              "    </div>\n",
              "  </div>\n",
              "  "
            ]
          },
          "metadata": {},
          "execution_count": 39
        }
      ]
    },
    {
      "cell_type": "markdown",
      "source": [
        "**One-Hot Encoding for feature engineering**"
      ],
      "metadata": {
        "id": "U25LFUYkMnYV"
      }
    },
    {
      "cell_type": "code",
      "source": [
        "from sklearn import preprocessing\n",
        "\n",
        "label_encoder1 = preprocessing.LabelEncoder()\n",
        "df['Agency']= label_encoder1.fit_transform(df['Agency'])\n",
        "  \n",
        "label_encoder2 = preprocessing.LabelEncoder()\n",
        "df['Agency_Type']= label_encoder2.fit_transform(df['Agency_Type'])\n",
        "\n",
        "label_encoder3 = preprocessing.LabelEncoder()\n",
        "df['Distribution_Channel']= label_encoder3.fit_transform(df['Distribution_Channel'])\n",
        "\n",
        "label_encoder4 = preprocessing.LabelEncoder()\n",
        "df['Product_Name']= label_encoder4.fit_transform(df['Product_Name'])\n",
        "\n",
        "label_encoder5 = preprocessing.LabelEncoder()\n",
        "df['Claim']= label_encoder5.fit_transform(df['Claim'])\n",
        "\n",
        "label_encoder6 = preprocessing.LabelEncoder()\n",
        "df['Destination']= label_encoder6.fit_transform(df['Destination'])\n",
        "\n"
      ],
      "metadata": {
        "id": "nmYhs6jULrHF"
      },
      "execution_count": null,
      "outputs": []
    },
    {
      "cell_type": "code",
      "source": [
        "df"
      ],
      "metadata": {
        "colab": {
          "base_uri": "https://localhost:8080/",
          "height": 424
        },
        "id": "LNckyz4vMXt0",
        "outputId": "eb1559b3-6ebf-4e5b-e3f9-8ae7e5d1c5cb"
      },
      "execution_count": null,
      "outputs": [
        {
          "output_type": "execute_result",
          "data": {
            "text/plain": [
              "       Agency  Agency_Type  Distribution_Channel  Product_Name  Duration  \\\n",
              "0           2            0                     1             4       365   \n",
              "1           7            1                     1            10         4   \n",
              "2           9            0                     1             8        19   \n",
              "3           7            1                     1             1        20   \n",
              "4           2            0                     1             9         8   \n",
              "...       ...          ...                   ...           ...       ...   \n",
              "44323       7            1                     1             1        14   \n",
              "44324       6            1                     1            16        17   \n",
              "44325      14            1                     0            23        64   \n",
              "44326       7            1                     1             1        51   \n",
              "44327       6            1                     1            16       172   \n",
              "\n",
              "       Destination  Net_Sales  Commision  Age  Claim  \n",
              "0              110      216.0      54.00   57      0  \n",
              "1               74       10.0       0.00   33      0  \n",
              "2               52       22.0       7.70   26      0  \n",
              "3              130      112.0       0.00   59      0  \n",
              "4              110       16.0       4.00   28      0  \n",
              "...            ...        ...        ...  ...    ...  \n",
              "44323           23       30.0       0.00   36      1  \n",
              "44324            3       79.2      47.52   47      0  \n",
              "44325          120       30.0      10.50   50      0  \n",
              "44326           23       36.0       0.00   36      0  \n",
              "44327          110        0.0      17.82   31      0  \n",
              "\n",
              "[44326 rows x 10 columns]"
            ],
            "text/html": [
              "\n",
              "  <div id=\"df-3c6e9374-61d5-415a-a596-add5d347a9e2\">\n",
              "    <div class=\"colab-df-container\">\n",
              "      <div>\n",
              "<style scoped>\n",
              "    .dataframe tbody tr th:only-of-type {\n",
              "        vertical-align: middle;\n",
              "    }\n",
              "\n",
              "    .dataframe tbody tr th {\n",
              "        vertical-align: top;\n",
              "    }\n",
              "\n",
              "    .dataframe thead th {\n",
              "        text-align: right;\n",
              "    }\n",
              "</style>\n",
              "<table border=\"1\" class=\"dataframe\">\n",
              "  <thead>\n",
              "    <tr style=\"text-align: right;\">\n",
              "      <th></th>\n",
              "      <th>Agency</th>\n",
              "      <th>Agency_Type</th>\n",
              "      <th>Distribution_Channel</th>\n",
              "      <th>Product_Name</th>\n",
              "      <th>Duration</th>\n",
              "      <th>Destination</th>\n",
              "      <th>Net_Sales</th>\n",
              "      <th>Commision</th>\n",
              "      <th>Age</th>\n",
              "      <th>Claim</th>\n",
              "    </tr>\n",
              "  </thead>\n",
              "  <tbody>\n",
              "    <tr>\n",
              "      <th>0</th>\n",
              "      <td>2</td>\n",
              "      <td>0</td>\n",
              "      <td>1</td>\n",
              "      <td>4</td>\n",
              "      <td>365</td>\n",
              "      <td>110</td>\n",
              "      <td>216.0</td>\n",
              "      <td>54.00</td>\n",
              "      <td>57</td>\n",
              "      <td>0</td>\n",
              "    </tr>\n",
              "    <tr>\n",
              "      <th>1</th>\n",
              "      <td>7</td>\n",
              "      <td>1</td>\n",
              "      <td>1</td>\n",
              "      <td>10</td>\n",
              "      <td>4</td>\n",
              "      <td>74</td>\n",
              "      <td>10.0</td>\n",
              "      <td>0.00</td>\n",
              "      <td>33</td>\n",
              "      <td>0</td>\n",
              "    </tr>\n",
              "    <tr>\n",
              "      <th>2</th>\n",
              "      <td>9</td>\n",
              "      <td>0</td>\n",
              "      <td>1</td>\n",
              "      <td>8</td>\n",
              "      <td>19</td>\n",
              "      <td>52</td>\n",
              "      <td>22.0</td>\n",
              "      <td>7.70</td>\n",
              "      <td>26</td>\n",
              "      <td>0</td>\n",
              "    </tr>\n",
              "    <tr>\n",
              "      <th>3</th>\n",
              "      <td>7</td>\n",
              "      <td>1</td>\n",
              "      <td>1</td>\n",
              "      <td>1</td>\n",
              "      <td>20</td>\n",
              "      <td>130</td>\n",
              "      <td>112.0</td>\n",
              "      <td>0.00</td>\n",
              "      <td>59</td>\n",
              "      <td>0</td>\n",
              "    </tr>\n",
              "    <tr>\n",
              "      <th>4</th>\n",
              "      <td>2</td>\n",
              "      <td>0</td>\n",
              "      <td>1</td>\n",
              "      <td>9</td>\n",
              "      <td>8</td>\n",
              "      <td>110</td>\n",
              "      <td>16.0</td>\n",
              "      <td>4.00</td>\n",
              "      <td>28</td>\n",
              "      <td>0</td>\n",
              "    </tr>\n",
              "    <tr>\n",
              "      <th>...</th>\n",
              "      <td>...</td>\n",
              "      <td>...</td>\n",
              "      <td>...</td>\n",
              "      <td>...</td>\n",
              "      <td>...</td>\n",
              "      <td>...</td>\n",
              "      <td>...</td>\n",
              "      <td>...</td>\n",
              "      <td>...</td>\n",
              "      <td>...</td>\n",
              "    </tr>\n",
              "    <tr>\n",
              "      <th>44323</th>\n",
              "      <td>7</td>\n",
              "      <td>1</td>\n",
              "      <td>1</td>\n",
              "      <td>1</td>\n",
              "      <td>14</td>\n",
              "      <td>23</td>\n",
              "      <td>30.0</td>\n",
              "      <td>0.00</td>\n",
              "      <td>36</td>\n",
              "      <td>1</td>\n",
              "    </tr>\n",
              "    <tr>\n",
              "      <th>44324</th>\n",
              "      <td>6</td>\n",
              "      <td>1</td>\n",
              "      <td>1</td>\n",
              "      <td>16</td>\n",
              "      <td>17</td>\n",
              "      <td>3</td>\n",
              "      <td>79.2</td>\n",
              "      <td>47.52</td>\n",
              "      <td>47</td>\n",
              "      <td>0</td>\n",
              "    </tr>\n",
              "    <tr>\n",
              "      <th>44325</th>\n",
              "      <td>14</td>\n",
              "      <td>1</td>\n",
              "      <td>0</td>\n",
              "      <td>23</td>\n",
              "      <td>64</td>\n",
              "      <td>120</td>\n",
              "      <td>30.0</td>\n",
              "      <td>10.50</td>\n",
              "      <td>50</td>\n",
              "      <td>0</td>\n",
              "    </tr>\n",
              "    <tr>\n",
              "      <th>44326</th>\n",
              "      <td>7</td>\n",
              "      <td>1</td>\n",
              "      <td>1</td>\n",
              "      <td>1</td>\n",
              "      <td>51</td>\n",
              "      <td>23</td>\n",
              "      <td>36.0</td>\n",
              "      <td>0.00</td>\n",
              "      <td>36</td>\n",
              "      <td>0</td>\n",
              "    </tr>\n",
              "    <tr>\n",
              "      <th>44327</th>\n",
              "      <td>6</td>\n",
              "      <td>1</td>\n",
              "      <td>1</td>\n",
              "      <td>16</td>\n",
              "      <td>172</td>\n",
              "      <td>110</td>\n",
              "      <td>0.0</td>\n",
              "      <td>17.82</td>\n",
              "      <td>31</td>\n",
              "      <td>0</td>\n",
              "    </tr>\n",
              "  </tbody>\n",
              "</table>\n",
              "<p>44326 rows × 10 columns</p>\n",
              "</div>\n",
              "      <button class=\"colab-df-convert\" onclick=\"convertToInteractive('df-3c6e9374-61d5-415a-a596-add5d347a9e2')\"\n",
              "              title=\"Convert this dataframe to an interactive table.\"\n",
              "              style=\"display:none;\">\n",
              "        \n",
              "  <svg xmlns=\"http://www.w3.org/2000/svg\" height=\"24px\"viewBox=\"0 0 24 24\"\n",
              "       width=\"24px\">\n",
              "    <path d=\"M0 0h24v24H0V0z\" fill=\"none\"/>\n",
              "    <path d=\"M18.56 5.44l.94 2.06.94-2.06 2.06-.94-2.06-.94-.94-2.06-.94 2.06-2.06.94zm-11 1L8.5 8.5l.94-2.06 2.06-.94-2.06-.94L8.5 2.5l-.94 2.06-2.06.94zm10 10l.94 2.06.94-2.06 2.06-.94-2.06-.94-.94-2.06-.94 2.06-2.06.94z\"/><path d=\"M17.41 7.96l-1.37-1.37c-.4-.4-.92-.59-1.43-.59-.52 0-1.04.2-1.43.59L10.3 9.45l-7.72 7.72c-.78.78-.78 2.05 0 2.83L4 21.41c.39.39.9.59 1.41.59.51 0 1.02-.2 1.41-.59l7.78-7.78 2.81-2.81c.8-.78.8-2.07 0-2.86zM5.41 20L4 18.59l7.72-7.72 1.47 1.35L5.41 20z\"/>\n",
              "  </svg>\n",
              "      </button>\n",
              "      \n",
              "  <style>\n",
              "    .colab-df-container {\n",
              "      display:flex;\n",
              "      flex-wrap:wrap;\n",
              "      gap: 12px;\n",
              "    }\n",
              "\n",
              "    .colab-df-convert {\n",
              "      background-color: #E8F0FE;\n",
              "      border: none;\n",
              "      border-radius: 50%;\n",
              "      cursor: pointer;\n",
              "      display: none;\n",
              "      fill: #1967D2;\n",
              "      height: 32px;\n",
              "      padding: 0 0 0 0;\n",
              "      width: 32px;\n",
              "    }\n",
              "\n",
              "    .colab-df-convert:hover {\n",
              "      background-color: #E2EBFA;\n",
              "      box-shadow: 0px 1px 2px rgba(60, 64, 67, 0.3), 0px 1px 3px 1px rgba(60, 64, 67, 0.15);\n",
              "      fill: #174EA6;\n",
              "    }\n",
              "\n",
              "    [theme=dark] .colab-df-convert {\n",
              "      background-color: #3B4455;\n",
              "      fill: #D2E3FC;\n",
              "    }\n",
              "\n",
              "    [theme=dark] .colab-df-convert:hover {\n",
              "      background-color: #434B5C;\n",
              "      box-shadow: 0px 1px 3px 1px rgba(0, 0, 0, 0.15);\n",
              "      filter: drop-shadow(0px 1px 2px rgba(0, 0, 0, 0.3));\n",
              "      fill: #FFFFFF;\n",
              "    }\n",
              "  </style>\n",
              "\n",
              "      <script>\n",
              "        const buttonEl =\n",
              "          document.querySelector('#df-3c6e9374-61d5-415a-a596-add5d347a9e2 button.colab-df-convert');\n",
              "        buttonEl.style.display =\n",
              "          google.colab.kernel.accessAllowed ? 'block' : 'none';\n",
              "\n",
              "        async function convertToInteractive(key) {\n",
              "          const element = document.querySelector('#df-3c6e9374-61d5-415a-a596-add5d347a9e2');\n",
              "          const dataTable =\n",
              "            await google.colab.kernel.invokeFunction('convertToInteractive',\n",
              "                                                     [key], {});\n",
              "          if (!dataTable) return;\n",
              "\n",
              "          const docLinkHtml = 'Like what you see? Visit the ' +\n",
              "            '<a target=\"_blank\" href=https://colab.research.google.com/notebooks/data_table.ipynb>data table notebook</a>'\n",
              "            + ' to learn more about interactive tables.';\n",
              "          element.innerHTML = '';\n",
              "          dataTable['output_type'] = 'display_data';\n",
              "          await google.colab.output.renderOutput(dataTable, element);\n",
              "          const docLink = document.createElement('div');\n",
              "          docLink.innerHTML = docLinkHtml;\n",
              "          element.appendChild(docLink);\n",
              "        }\n",
              "      </script>\n",
              "    </div>\n",
              "  </div>\n",
              "  "
            ]
          },
          "metadata": {},
          "execution_count": 67
        }
      ]
    },
    {
      "cell_type": "markdown",
      "source": [
        "#### Correlation Map\n",
        "Mari buat peta korelasi dengan semua fitur."
      ],
      "metadata": {
        "id": "YWhflNp0NW_7"
      }
    },
    {
      "cell_type": "code",
      "source": [
        "plt.figure(figsize = (20,8))\n",
        "sns.heatmap(df.corr(), square=True,annot=True,cmap= 'coolwarm')"
      ],
      "metadata": {
        "colab": {
          "base_uri": "https://localhost:8080/",
          "height": 598
        },
        "id": "HRj7l9L8NyRl",
        "outputId": "4c22910b-5a90-45fe-f2d1-724ecf7745e3"
      },
      "execution_count": null,
      "outputs": [
        {
          "output_type": "execute_result",
          "data": {
            "text/plain": [
              "<matplotlib.axes._subplots.AxesSubplot at 0x7f5c8a3bdf90>"
            ]
          },
          "metadata": {},
          "execution_count": 68
        },
        {
          "output_type": "display_data",
          "data": {
            "text/plain": [
              "<Figure size 1440x576 with 2 Axes>"
            ],
            "image/png": "[encoded data removed]"
          },
          "metadata": {
            "needs_background": "light"
          }
        }
      ]
    },
    {
      "cell_type": "markdown",
      "source": [
        "Tidak ada kolinearitas signifikan yang diamati."
      ],
      "metadata": {
        "id": "dyC9GV7SPSZh"
      }
    },
    {
      "cell_type": "markdown",
      "source": [
        "**Preparing features for training and testing**\n"
      ],
      "metadata": {
        "id": "sym6RCPXPUeF"
      }
    },
    {
      "cell_type": "code",
      "source": [
        "y=df.iloc[:,[-1]]\n",
        "X=df.drop(y.columns,axis = 1)"
      ],
      "metadata": {
        "id": "RZ1X1VJrPYws"
      },
      "execution_count": null,
      "outputs": []
    },
    {
      "cell_type": "code",
      "source": [
        "y"
      ],
      "metadata": {
        "colab": {
          "base_uri": "https://localhost:8080/",
          "height": 424
        },
        "id": "N3-eQfgoPaak",
        "outputId": "25967ca1-f1f0-4236-cb6f-535bbd1ed1d5"
      },
      "execution_count": null,
      "outputs": [
        {
          "output_type": "execute_result",
          "data": {
            "text/plain": [
              "       Claim\n",
              "0          0\n",
              "1          0\n",
              "2          0\n",
              "3          0\n",
              "4          0\n",
              "...      ...\n",
              "44323      1\n",
              "44324      0\n",
              "44325      0\n",
              "44326      0\n",
              "44327      0\n",
              "\n",
              "[44326 rows x 1 columns]"
            ],
            "text/html": [
              "\n",
              "  <div id=\"df-a2a5aa5f-dc11-49f7-bc10-d3582d801683\">\n",
              "    <div class=\"colab-df-container\">\n",
              "      <div>\n",
              "<style scoped>\n",
              "    .dataframe tbody tr th:only-of-type {\n",
              "        vertical-align: middle;\n",
              "    }\n",
              "\n",
              "    .dataframe tbody tr th {\n",
              "        vertical-align: top;\n",
              "    }\n",
              "\n",
              "    .dataframe thead th {\n",
              "        text-align: right;\n",
              "    }\n",
              "</style>\n",
              "<table border=\"1\" class=\"dataframe\">\n",
              "  <thead>\n",
              "    <tr style=\"text-align: right;\">\n",
              "      <th></th>\n",
              "      <th>Claim</th>\n",
              "    </tr>\n",
              "  </thead>\n",
              "  <tbody>\n",
              "    <tr>\n",
              "      <th>0</th>\n",
              "      <td>0</td>\n",
              "    </tr>\n",
              "    <tr>\n",
              "      <th>1</th>\n",
              "      <td>0</td>\n",
              "    </tr>\n",
              "    <tr>\n",
              "      <th>2</th>\n",
              "      <td>0</td>\n",
              "    </tr>\n",
              "    <tr>\n",
              "      <th>3</th>\n",
              "      <td>0</td>\n",
              "    </tr>\n",
              "    <tr>\n",
              "      <th>4</th>\n",
              "      <td>0</td>\n",
              "    </tr>\n",
              "    <tr>\n",
              "      <th>...</th>\n",
              "      <td>...</td>\n",
              "    </tr>\n",
              "    <tr>\n",
              "      <th>44323</th>\n",
              "      <td>1</td>\n",
              "    </tr>\n",
              "    <tr>\n",
              "      <th>44324</th>\n",
              "      <td>0</td>\n",
              "    </tr>\n",
              "    <tr>\n",
              "      <th>44325</th>\n",
              "      <td>0</td>\n",
              "    </tr>\n",
              "    <tr>\n",
              "      <th>44326</th>\n",
              "      <td>0</td>\n",
              "    </tr>\n",
              "    <tr>\n",
              "      <th>44327</th>\n",
              "      <td>0</td>\n",
              "    </tr>\n",
              "  </tbody>\n",
              "</table>\n",
              "<p>44326 rows × 1 columns</p>\n",
              "</div>\n",
              "      <button class=\"colab-df-convert\" onclick=\"convertToInteractive('df-a2a5aa5f-dc11-49f7-bc10-d3582d801683')\"\n",
              "              title=\"Convert this dataframe to an interactive table.\"\n",
              "              style=\"display:none;\">\n",
              "        \n",
              "  <svg xmlns=\"http://www.w3.org/2000/svg\" height=\"24px\"viewBox=\"0 0 24 24\"\n",
              "       width=\"24px\">\n",
              "    <path d=\"M0 0h24v24H0V0z\" fill=\"none\"/>\n",
              "    <path d=\"M18.56 5.44l.94 2.06.94-2.06 2.06-.94-2.06-.94-.94-2.06-.94 2.06-2.06.94zm-11 1L8.5 8.5l.94-2.06 2.06-.94-2.06-.94L8.5 2.5l-.94 2.06-2.06.94zm10 10l.94 2.06.94-2.06 2.06-.94-2.06-.94-.94-2.06-.94 2.06-2.06.94z\"/><path d=\"M17.41 7.96l-1.37-1.37c-.4-.4-.92-.59-1.43-.59-.52 0-1.04.2-1.43.59L10.3 9.45l-7.72 7.72c-.78.78-.78 2.05 0 2.83L4 21.41c.39.39.9.59 1.41.59.51 0 1.02-.2 1.41-.59l7.78-7.78 2.81-2.81c.8-.78.8-2.07 0-2.86zM5.41 20L4 18.59l7.72-7.72 1.47 1.35L5.41 20z\"/>\n",
              "  </svg>\n",
              "      </button>\n",
              "      \n",
              "  <style>\n",
              "    .colab-df-container {\n",
              "      display:flex;\n",
              "      flex-wrap:wrap;\n",
              "      gap: 12px;\n",
              "    }\n",
              "\n",
              "    .colab-df-convert {\n",
              "      background-color: #E8F0FE;\n",
              "      border: none;\n",
              "      border-radius: 50%;\n",
              "      cursor: pointer;\n",
              "      display: none;\n",
              "      fill: #1967D2;\n",
              "      height: 32px;\n",
              "      padding: 0 0 0 0;\n",
              "      width: 32px;\n",
              "    }\n",
              "\n",
              "    .colab-df-convert:hover {\n",
              "      background-color: #E2EBFA;\n",
              "      box-shadow: 0px 1px 2px rgba(60, 64, 67, 0.3), 0px 1px 3px 1px rgba(60, 64, 67, 0.15);\n",
              "      fill: #174EA6;\n",
              "    }\n",
              "\n",
              "    [theme=dark] .colab-df-convert {\n",
              "      background-color: #3B4455;\n",
              "      fill: #D2E3FC;\n",
              "    }\n",
              "\n",
              "    [theme=dark] .colab-df-convert:hover {\n",
              "      background-color: #434B5C;\n",
              "      box-shadow: 0px 1px 3px 1px rgba(0, 0, 0, 0.15);\n",
              "      filter: drop-shadow(0px 1px 2px rgba(0, 0, 0, 0.3));\n",
              "      fill: #FFFFFF;\n",
              "    }\n",
              "  </style>\n",
              "\n",
              "      <script>\n",
              "        const buttonEl =\n",
              "          document.querySelector('#df-a2a5aa5f-dc11-49f7-bc10-d3582d801683 button.colab-df-convert');\n",
              "        buttonEl.style.display =\n",
              "          google.colab.kernel.accessAllowed ? 'block' : 'none';\n",
              "\n",
              "        async function convertToInteractive(key) {\n",
              "          const element = document.querySelector('#df-a2a5aa5f-dc11-49f7-bc10-d3582d801683');\n",
              "          const dataTable =\n",
              "            await google.colab.kernel.invokeFunction('convertToInteractive',\n",
              "                                                     [key], {});\n",
              "          if (!dataTable) return;\n",
              "\n",
              "          const docLinkHtml = 'Like what you see? Visit the ' +\n",
              "            '<a target=\"_blank\" href=https://colab.research.google.com/notebooks/data_table.ipynb>data table notebook</a>'\n",
              "            + ' to learn more about interactive tables.';\n",
              "          element.innerHTML = '';\n",
              "          dataTable['output_type'] = 'display_data';\n",
              "          await google.colab.output.renderOutput(dataTable, element);\n",
              "          const docLink = document.createElement('div');\n",
              "          docLink.innerHTML = docLinkHtml;\n",
              "          element.appendChild(docLink);\n",
              "        }\n",
              "      </script>\n",
              "    </div>\n",
              "  </div>\n",
              "  "
            ]
          },
          "metadata": {},
          "execution_count": 70
        }
      ]
    },
    {
      "cell_type": "code",
      "source": [
        "X"
      ],
      "metadata": {
        "colab": {
          "base_uri": "https://localhost:8080/",
          "height": 424
        },
        "id": "c7aMcA0rPcpl",
        "outputId": "0f015733-fa59-4f28-e6ae-ba349903d3bc"
      },
      "execution_count": null,
      "outputs": [
        {
          "output_type": "execute_result",
          "data": {
            "text/plain": [
              "       Agency  Agency_Type  Distribution_Channel  Product_Name  Duration  \\\n",
              "0           2            0                     1             4       365   \n",
              "1           7            1                     1            10         4   \n",
              "2           9            0                     1             8        19   \n",
              "3           7            1                     1             1        20   \n",
              "4           2            0                     1             9         8   \n",
              "...       ...          ...                   ...           ...       ...   \n",
              "44323       7            1                     1             1        14   \n",
              "44324       6            1                     1            16        17   \n",
              "44325      14            1                     0            23        64   \n",
              "44326       7            1                     1             1        51   \n",
              "44327       6            1                     1            16       172   \n",
              "\n",
              "       Destination  Net_Sales  Commision  Age  \n",
              "0              110      216.0      54.00   57  \n",
              "1               74       10.0       0.00   33  \n",
              "2               52       22.0       7.70   26  \n",
              "3              130      112.0       0.00   59  \n",
              "4              110       16.0       4.00   28  \n",
              "...            ...        ...        ...  ...  \n",
              "44323           23       30.0       0.00   36  \n",
              "44324            3       79.2      47.52   47  \n",
              "44325          120       30.0      10.50   50  \n",
              "44326           23       36.0       0.00   36  \n",
              "44327          110        0.0      17.82   31  \n",
              "\n",
              "[44326 rows x 9 columns]"
            ],
            "text/html": [
              "\n",
              "  <div id=\"df-22891f1f-6850-4a44-9932-8b179f564cb0\">\n",
              "    <div class=\"colab-df-container\">\n",
              "      <div>\n",
              "<style scoped>\n",
              "    .dataframe tbody tr th:only-of-type {\n",
              "        vertical-align: middle;\n",
              "    }\n",
              "\n",
              "    .dataframe tbody tr th {\n",
              "        vertical-align: top;\n",
              "    }\n",
              "\n",
              "    .dataframe thead th {\n",
              "        text-align: right;\n",
              "    }\n",
              "</style>\n",
              "<table border=\"1\" class=\"dataframe\">\n",
              "  <thead>\n",
              "    <tr style=\"text-align: right;\">\n",
              "      <th></th>\n",
              "      <th>Agency</th>\n",
              "      <th>Agency_Type</th>\n",
              "      <th>Distribution_Channel</th>\n",
              "      <th>Product_Name</th>\n",
              "      <th>Duration</th>\n",
              "      <th>Destination</th>\n",
              "      <th>Net_Sales</th>\n",
              "      <th>Commision</th>\n",
              "      <th>Age</th>\n",
              "    </tr>\n",
              "  </thead>\n",
              "  <tbody>\n",
              "    <tr>\n",
              "      <th>0</th>\n",
              "      <td>2</td>\n",
              "      <td>0</td>\n",
              "      <td>1</td>\n",
              "      <td>4</td>\n",
              "      <td>365</td>\n",
              "      <td>110</td>\n",
              "      <td>216.0</td>\n",
              "      <td>54.00</td>\n",
              "      <td>57</td>\n",
              "    </tr>\n",
              "    <tr>\n",
              "      <th>1</th>\n",
              "      <td>7</td>\n",
              "      <td>1</td>\n",
              "      <td>1</td>\n",
              "      <td>10</td>\n",
              "      <td>4</td>\n",
              "      <td>74</td>\n",
              "      <td>10.0</td>\n",
              "      <td>0.00</td>\n",
              "      <td>33</td>\n",
              "    </tr>\n",
              "    <tr>\n",
              "      <th>2</th>\n",
              "      <td>9</td>\n",
              "      <td>0</td>\n",
              "      <td>1</td>\n",
              "      <td>8</td>\n",
              "      <td>19</td>\n",
              "      <td>52</td>\n",
              "      <td>22.0</td>\n",
              "      <td>7.70</td>\n",
              "      <td>26</td>\n",
              "    </tr>\n",
              "    <tr>\n",
              "      <th>3</th>\n",
              "      <td>7</td>\n",
              "      <td>1</td>\n",
              "      <td>1</td>\n",
              "      <td>1</td>\n",
              "      <td>20</td>\n",
              "      <td>130</td>\n",
              "      <td>112.0</td>\n",
              "      <td>0.00</td>\n",
              "      <td>59</td>\n",
              "    </tr>\n",
              "    <tr>\n",
              "      <th>4</th>\n",
              "      <td>2</td>\n",
              "      <td>0</td>\n",
              "      <td>1</td>\n",
              "      <td>9</td>\n",
              "      <td>8</td>\n",
              "      <td>110</td>\n",
              "      <td>16.0</td>\n",
              "      <td>4.00</td>\n",
              "      <td>28</td>\n",
              "    </tr>\n",
              "    <tr>\n",
              "      <th>...</th>\n",
              "      <td>...</td>\n",
              "      <td>...</td>\n",
              "      <td>...</td>\n",
              "      <td>...</td>\n",
              "      <td>...</td>\n",
              "      <td>...</td>\n",
              "      <td>...</td>\n",
              "      <td>...</td>\n",
              "      <td>...</td>\n",
              "    </tr>\n",
              "    <tr>\n",
              "      <th>44323</th>\n",
              "      <td>7</td>\n",
              "      <td>1</td>\n",
              "      <td>1</td>\n",
              "      <td>1</td>\n",
              "      <td>14</td>\n",
              "      <td>23</td>\n",
              "      <td>30.0</td>\n",
              "      <td>0.00</td>\n",
              "      <td>36</td>\n",
              "    </tr>\n",
              "    <tr>\n",
              "      <th>44324</th>\n",
              "      <td>6</td>\n",
              "      <td>1</td>\n",
              "      <td>1</td>\n",
              "      <td>16</td>\n",
              "      <td>17</td>\n",
              "      <td>3</td>\n",
              "      <td>79.2</td>\n",
              "      <td>47.52</td>\n",
              "      <td>47</td>\n",
              "    </tr>\n",
              "    <tr>\n",
              "      <th>44325</th>\n",
              "      <td>14</td>\n",
              "      <td>1</td>\n",
              "      <td>0</td>\n",
              "      <td>23</td>\n",
              "      <td>64</td>\n",
              "      <td>120</td>\n",
              "      <td>30.0</td>\n",
              "      <td>10.50</td>\n",
              "      <td>50</td>\n",
              "    </tr>\n",
              "    <tr>\n",
              "      <th>44326</th>\n",
              "      <td>7</td>\n",
              "      <td>1</td>\n",
              "      <td>1</td>\n",
              "      <td>1</td>\n",
              "      <td>51</td>\n",
              "      <td>23</td>\n",
              "      <td>36.0</td>\n",
              "      <td>0.00</td>\n",
              "      <td>36</td>\n",
              "    </tr>\n",
              "    <tr>\n",
              "      <th>44327</th>\n",
              "      <td>6</td>\n",
              "      <td>1</td>\n",
              "      <td>1</td>\n",
              "      <td>16</td>\n",
              "      <td>172</td>\n",
              "      <td>110</td>\n",
              "      <td>0.0</td>\n",
              "      <td>17.82</td>\n",
              "      <td>31</td>\n",
              "    </tr>\n",
              "  </tbody>\n",
              "</table>\n",
              "<p>44326 rows × 9 columns</p>\n",
              "</div>\n",
              "      <button class=\"colab-df-convert\" onclick=\"convertToInteractive('df-22891f1f-6850-4a44-9932-8b179f564cb0')\"\n",
              "              title=\"Convert this dataframe to an interactive table.\"\n",
              "              style=\"display:none;\">\n",
              "        \n",
              "  <svg xmlns=\"http://www.w3.org/2000/svg\" height=\"24px\"viewBox=\"0 0 24 24\"\n",
              "       width=\"24px\">\n",
              "    <path d=\"M0 0h24v24H0V0z\" fill=\"none\"/>\n",
              "    <path d=\"M18.56 5.44l.94 2.06.94-2.06 2.06-.94-2.06-.94-.94-2.06-.94 2.06-2.06.94zm-11 1L8.5 8.5l.94-2.06 2.06-.94-2.06-.94L8.5 2.5l-.94 2.06-2.06.94zm10 10l.94 2.06.94-2.06 2.06-.94-2.06-.94-.94-2.06-.94 2.06-2.06.94z\"/><path d=\"M17.41 7.96l-1.37-1.37c-.4-.4-.92-.59-1.43-.59-.52 0-1.04.2-1.43.59L10.3 9.45l-7.72 7.72c-.78.78-.78 2.05 0 2.83L4 21.41c.39.39.9.59 1.41.59.51 0 1.02-.2 1.41-.59l7.78-7.78 2.81-2.81c.8-.78.8-2.07 0-2.86zM5.41 20L4 18.59l7.72-7.72 1.47 1.35L5.41 20z\"/>\n",
              "  </svg>\n",
              "      </button>\n",
              "      \n",
              "  <style>\n",
              "    .colab-df-container {\n",
              "      display:flex;\n",
              "      flex-wrap:wrap;\n",
              "      gap: 12px;\n",
              "    }\n",
              "\n",
              "    .colab-df-convert {\n",
              "      background-color: #E8F0FE;\n",
              "      border: none;\n",
              "      border-radius: 50%;\n",
              "      cursor: pointer;\n",
              "      display: none;\n",
              "      fill: #1967D2;\n",
              "      height: 32px;\n",
              "      padding: 0 0 0 0;\n",
              "      width: 32px;\n",
              "    }\n",
              "\n",
              "    .colab-df-convert:hover {\n",
              "      background-color: #E2EBFA;\n",
              "      box-shadow: 0px 1px 2px rgba(60, 64, 67, 0.3), 0px 1px 3px 1px rgba(60, 64, 67, 0.15);\n",
              "      fill: #174EA6;\n",
              "    }\n",
              "\n",
              "    [theme=dark] .colab-df-convert {\n",
              "      background-color: #3B4455;\n",
              "      fill: #D2E3FC;\n",
              "    }\n",
              "\n",
              "    [theme=dark] .colab-df-convert:hover {\n",
              "      background-color: #434B5C;\n",
              "      box-shadow: 0px 1px 3px 1px rgba(0, 0, 0, 0.15);\n",
              "      filter: drop-shadow(0px 1px 2px rgba(0, 0, 0, 0.3));\n",
              "      fill: #FFFFFF;\n",
              "    }\n",
              "  </style>\n",
              "\n",
              "      <script>\n",
              "        const buttonEl =\n",
              "          document.querySelector('#df-22891f1f-6850-4a44-9932-8b179f564cb0 button.colab-df-convert');\n",
              "        buttonEl.style.display =\n",
              "          google.colab.kernel.accessAllowed ? 'block' : 'none';\n",
              "\n",
              "        async function convertToInteractive(key) {\n",
              "          const element = document.querySelector('#df-22891f1f-6850-4a44-9932-8b179f564cb0');\n",
              "          const dataTable =\n",
              "            await google.colab.kernel.invokeFunction('convertToInteractive',\n",
              "                                                     [key], {});\n",
              "          if (!dataTable) return;\n",
              "\n",
              "          const docLinkHtml = 'Like what you see? Visit the ' +\n",
              "            '<a target=\"_blank\" href=https://colab.research.google.com/notebooks/data_table.ipynb>data table notebook</a>'\n",
              "            + ' to learn more about interactive tables.';\n",
              "          element.innerHTML = '';\n",
              "          dataTable['output_type'] = 'display_data';\n",
              "          await google.colab.output.renderOutput(dataTable, element);\n",
              "          const docLink = document.createElement('div');\n",
              "          docLink.innerHTML = docLinkHtml;\n",
              "          element.appendChild(docLink);\n",
              "        }\n",
              "      </script>\n",
              "    </div>\n",
              "  </div>\n",
              "  "
            ]
          },
          "metadata": {},
          "execution_count": 71
        }
      ]
    },
    {
      "cell_type": "markdown",
      "source": [
        "**Addressing the inbalance in the data**\n"
      ],
      "metadata": {
        "id": "AUW--OHHPhi_"
      }
    },
    {
      "cell_type": "code",
      "execution_count": null,
      "metadata": {
        "id": "G_PfQSdm8nOx",
        "colab": {
          "base_uri": "https://localhost:8080/"
        },
        "outputId": "8bd76bea-be34-4889-da82-e2274da6d1a9"
      },
      "outputs": [
        {
          "output_type": "stream",
          "name": "stdout",
          "text": [
            "Shape of X before SMOTE: (44326, 9)\n",
            "Shape of X after SMOTE: (87298, 9)\n",
            "\n",
            "Balance of positive and negative classes (%):\n"
          ]
        },
        {
          "output_type": "execute_result",
          "data": {
            "text/plain": [
              "Claim\n",
              "0        50.0\n",
              "1        50.0\n",
              "dtype: float64"
            ]
          },
          "metadata": {},
          "execution_count": 72
        }
      ],
      "source": [
        "sm = SMOTE(random_state=42)\n",
        "X_sm, y_sm = sm.fit_resample(X, y)\n",
        "print(f'''Shape of X before SMOTE: {X.shape}\n",
        "Shape of X after SMOTE: {X_sm.shape}''')\n",
        "print('\\nBalance of positive and negative classes (%):')\n",
        "y_sm.value_counts(normalize=True) * 100"
      ]
    },
    {
      "cell_type": "markdown",
      "source": [
        "**Scale features (0 to 1)**\n"
      ],
      "metadata": {
        "id": "cWgkFLz3P1-a"
      }
    },
    {
      "cell_type": "code",
      "source": [
        "X_new=pd.DataFrame()\n",
        "to_scale = X_sm.columns\n",
        "mms = MinMaxScaler()\n",
        "X_new[to_scale] = mms.fit_transform(X_sm[to_scale])\n",
        "X_new.head()"
      ],
      "metadata": {
        "colab": {
          "base_uri": "https://localhost:8080/",
          "height": 206
        },
        "id": "fIwwxRs0P4iu",
        "outputId": "061c9060-fe75-40cf-9ec1-0ef73d8d37c2"
      },
      "execution_count": null,
      "outputs": [
        {
          "output_type": "execute_result",
          "data": {
            "text/plain": [
              "     Agency  Agency_Type  Distribution_Channel  Product_Name  Duration  \\\n",
              "0  0.133333          0.0                   1.0          0.16  0.074780   \n",
              "1  0.466667          1.0                   1.0          0.40  0.000820   \n",
              "2  0.600000          0.0                   1.0          0.32  0.003893   \n",
              "3  0.466667          1.0                   1.0          0.04  0.004098   \n",
              "4  0.133333          0.0                   1.0          0.36  0.001639   \n",
              "\n",
              "   Destination  Net_Sales  Commision       Age  \n",
              "0     0.802920   0.491221   0.190476  0.483051  \n",
              "1     0.540146   0.314775   0.000000  0.279661  \n",
              "2     0.379562   0.325054   0.027160  0.220339  \n",
              "3     0.948905   0.402141   0.000000  0.500000  \n",
              "4     0.802920   0.319914   0.014109  0.237288  "
            ],
            "text/html": [
              "\n",
              "  <div id=\"df-7e9bc5e1-480b-4815-8329-34ff5f9e5b0f\">\n",
              "    <div class=\"colab-df-container\">\n",
              "      <div>\n",
              "<style scoped>\n",
              "    .dataframe tbody tr th:only-of-type {\n",
              "        vertical-align: middle;\n",
              "    }\n",
              "\n",
              "    .dataframe tbody tr th {\n",
              "        vertical-align: top;\n",
              "    }\n",
              "\n",
              "    .dataframe thead th {\n",
              "        text-align: right;\n",
              "    }\n",
              "</style>\n",
              "<table border=\"1\" class=\"dataframe\">\n",
              "  <thead>\n",
              "    <tr style=\"text-align: right;\">\n",
              "      <th></th>\n",
              "      <th>Agency</th>\n",
              "      <th>Agency_Type</th>\n",
              "      <th>Distribution_Channel</th>\n",
              "      <th>Product_Name</th>\n",
              "      <th>Duration</th>\n",
              "      <th>Destination</th>\n",
              "      <th>Net_Sales</th>\n",
              "      <th>Commision</th>\n",
              "      <th>Age</th>\n",
              "    </tr>\n",
              "  </thead>\n",
              "  <tbody>\n",
              "    <tr>\n",
              "      <th>0</th>\n",
              "      <td>0.133333</td>\n",
              "      <td>0.0</td>\n",
              "      <td>1.0</td>\n",
              "      <td>0.16</td>\n",
              "      <td>0.074780</td>\n",
              "      <td>0.802920</td>\n",
              "      <td>0.491221</td>\n",
              "      <td>0.190476</td>\n",
              "      <td>0.483051</td>\n",
              "    </tr>\n",
              "    <tr>\n",
              "      <th>1</th>\n",
              "      <td>0.466667</td>\n",
              "      <td>1.0</td>\n",
              "      <td>1.0</td>\n",
              "      <td>0.40</td>\n",
              "      <td>0.000820</td>\n",
              "      <td>0.540146</td>\n",
              "      <td>0.314775</td>\n",
              "      <td>0.000000</td>\n",
              "      <td>0.279661</td>\n",
              "    </tr>\n",
              "    <tr>\n",
              "      <th>2</th>\n",
              "      <td>0.600000</td>\n",
              "      <td>0.0</td>\n",
              "      <td>1.0</td>\n",
              "      <td>0.32</td>\n",
              "      <td>0.003893</td>\n",
              "      <td>0.379562</td>\n",
              "      <td>0.325054</td>\n",
              "      <td>0.027160</td>\n",
              "      <td>0.220339</td>\n",
              "    </tr>\n",
              "    <tr>\n",
              "      <th>3</th>\n",
              "      <td>0.466667</td>\n",
              "      <td>1.0</td>\n",
              "      <td>1.0</td>\n",
              "      <td>0.04</td>\n",
              "      <td>0.004098</td>\n",
              "      <td>0.948905</td>\n",
              "      <td>0.402141</td>\n",
              "      <td>0.000000</td>\n",
              "      <td>0.500000</td>\n",
              "    </tr>\n",
              "    <tr>\n",
              "      <th>4</th>\n",
              "      <td>0.133333</td>\n",
              "      <td>0.0</td>\n",
              "      <td>1.0</td>\n",
              "      <td>0.36</td>\n",
              "      <td>0.001639</td>\n",
              "      <td>0.802920</td>\n",
              "      <td>0.319914</td>\n",
              "      <td>0.014109</td>\n",
              "      <td>0.237288</td>\n",
              "    </tr>\n",
              "  </tbody>\n",
              "</table>\n",
              "</div>\n",
              "      <button class=\"colab-df-convert\" onclick=\"convertToInteractive('df-7e9bc5e1-480b-4815-8329-34ff5f9e5b0f')\"\n",
              "              title=\"Convert this dataframe to an interactive table.\"\n",
              "              style=\"display:none;\">\n",
              "        \n",
              "  <svg xmlns=\"http://www.w3.org/2000/svg\" height=\"24px\"viewBox=\"0 0 24 24\"\n",
              "       width=\"24px\">\n",
              "    <path d=\"M0 0h24v24H0V0z\" fill=\"none\"/>\n",
              "    <path d=\"M18.56 5.44l.94 2.06.94-2.06 2.06-.94-2.06-.94-.94-2.06-.94 2.06-2.06.94zm-11 1L8.5 8.5l.94-2.06 2.06-.94-2.06-.94L8.5 2.5l-.94 2.06-2.06.94zm10 10l.94 2.06.94-2.06 2.06-.94-2.06-.94-.94-2.06-.94 2.06-2.06.94z\"/><path d=\"M17.41 7.96l-1.37-1.37c-.4-.4-.92-.59-1.43-.59-.52 0-1.04.2-1.43.59L10.3 9.45l-7.72 7.72c-.78.78-.78 2.05 0 2.83L4 21.41c.39.39.9.59 1.41.59.51 0 1.02-.2 1.41-.59l7.78-7.78 2.81-2.81c.8-.78.8-2.07 0-2.86zM5.41 20L4 18.59l7.72-7.72 1.47 1.35L5.41 20z\"/>\n",
              "  </svg>\n",
              "      </button>\n",
              "      \n",
              "  <style>\n",
              "    .colab-df-container {\n",
              "      display:flex;\n",
              "      flex-wrap:wrap;\n",
              "      gap: 12px;\n",
              "    }\n",
              "\n",
              "    .colab-df-convert {\n",
              "      background-color: #E8F0FE;\n",
              "      border: none;\n",
              "      border-radius: 50%;\n",
              "      cursor: pointer;\n",
              "      display: none;\n",
              "      fill: #1967D2;\n",
              "      height: 32px;\n",
              "      padding: 0 0 0 0;\n",
              "      width: 32px;\n",
              "    }\n",
              "\n",
              "    .colab-df-convert:hover {\n",
              "      background-color: #E2EBFA;\n",
              "      box-shadow: 0px 1px 2px rgba(60, 64, 67, 0.3), 0px 1px 3px 1px rgba(60, 64, 67, 0.15);\n",
              "      fill: #174EA6;\n",
              "    }\n",
              "\n",
              "    [theme=dark] .colab-df-convert {\n",
              "      background-color: #3B4455;\n",
              "      fill: #D2E3FC;\n",
              "    }\n",
              "\n",
              "    [theme=dark] .colab-df-convert:hover {\n",
              "      background-color: #434B5C;\n",
              "      box-shadow: 0px 1px 3px 1px rgba(0, 0, 0, 0.15);\n",
              "      filter: drop-shadow(0px 1px 2px rgba(0, 0, 0, 0.3));\n",
              "      fill: #FFFFFF;\n",
              "    }\n",
              "  </style>\n",
              "\n",
              "      <script>\n",
              "        const buttonEl =\n",
              "          document.querySelector('#df-7e9bc5e1-480b-4815-8329-34ff5f9e5b0f button.colab-df-convert');\n",
              "        buttonEl.style.display =\n",
              "          google.colab.kernel.accessAllowed ? 'block' : 'none';\n",
              "\n",
              "        async function convertToInteractive(key) {\n",
              "          const element = document.querySelector('#df-7e9bc5e1-480b-4815-8329-34ff5f9e5b0f');\n",
              "          const dataTable =\n",
              "            await google.colab.kernel.invokeFunction('convertToInteractive',\n",
              "                                                     [key], {});\n",
              "          if (!dataTable) return;\n",
              "\n",
              "          const docLinkHtml = 'Like what you see? Visit the ' +\n",
              "            '<a target=\"_blank\" href=https://colab.research.google.com/notebooks/data_table.ipynb>data table notebook</a>'\n",
              "            + ' to learn more about interactive tables.';\n",
              "          element.innerHTML = '';\n",
              "          dataTable['output_type'] = 'display_data';\n",
              "          await google.colab.output.renderOutput(dataTable, element);\n",
              "          const docLink = document.createElement('div');\n",
              "          docLink.innerHTML = docLinkHtml;\n",
              "          element.appendChild(docLink);\n",
              "        }\n",
              "      </script>\n",
              "    </div>\n",
              "  </div>\n",
              "  "
            ]
          },
          "metadata": {},
          "execution_count": 73
        }
      ]
    },
    {
      "cell_type": "markdown",
      "metadata": {
        "id": "3A-acl9u8nOx"
      },
      "source": [
        "## Modeling & Evaluation"
      ]
    },
    {
      "cell_type": "markdown",
      "source": [
        " **Train/Test Split**"
      ],
      "metadata": {
        "id": "j-QJZX7xSCjL"
      }
    },
    {
      "cell_type": "code",
      "source": [
        "X_train, X_test, y_train, y_test = train_test_split(X_new, y_sm, test_size=0.25, random_state=42)"
      ],
      "metadata": {
        "id": "jWYBj9JqSEHr"
      },
      "execution_count": null,
      "outputs": []
    },
    {
      "cell_type": "markdown",
      "source": [
        "**Train a Random Forest Classifier**\n",
        "<br> Metode ini digunakan terutama karena tidak ada kolinearitas yang kuat antara fitur dalam dataset."
      ],
      "metadata": {
        "id": "6StZywVQSIx4"
      }
    },
    {
      "cell_type": "code",
      "source": [
        "model = RandomForestClassifier(random_state=42)\n",
        "model.fit(X_train, y_train)\n",
        "preds = model.predict(X_test)"
      ],
      "metadata": {
        "colab": {
          "base_uri": "https://localhost:8080/"
        },
        "id": "-VwmEunjSKlF",
        "outputId": "d50b8826-ebc6-4612-a037-4bc5cb71aee6"
      },
      "execution_count": null,
      "outputs": [
        {
          "output_type": "stream",
          "name": "stderr",
          "text": [
            "/usr/local/lib/python3.7/dist-packages/ipykernel_launcher.py:2: DataConversionWarning:\n",
            "\n",
            "A column-vector y was passed when a 1d array was expected. Please change the shape of y to (n_samples,), for example using ravel().\n",
            "\n"
          ]
        }
      ]
    },
    {
      "cell_type": "markdown",
      "source": [
        "Karena kami mendapatkan kesalahan di atas, kami akan mengubah y kami menjadi vektor menggunakan ravel() seperti yang disarankan."
      ],
      "metadata": {
        "id": "DYR6PLqsSNUn"
      }
    },
    {
      "cell_type": "code",
      "execution_count": null,
      "metadata": {
        "id": "dXtu9joY8nOy"
      },
      "outputs": [],
      "source": [
        "model = RandomForestClassifier(random_state=42)\n",
        "model.fit(X_train, y_train.values.ravel())\n",
        "preds = model.predict(X_test)"
      ]
    },
    {
      "cell_type": "markdown",
      "source": [
        "**Testing and Accuracy**"
      ],
      "metadata": {
        "id": "UnGjgmTHSoUa"
      }
    },
    {
      "cell_type": "code",
      "source": [
        "print(f'Accuracy = {accuracy_score(y_test, preds):.2f}\\nRecall = {recall_score(y_test, preds):.2f}\\n')\n",
        "cm = confusion_matrix(y_test, preds)\n",
        "plt.figure(figsize=(8, 6))\n",
        "plt.title('Confusion Matrix', size=16)\n",
        "sns.heatmap(cm, annot=True, cmap='Blues');"
      ],
      "metadata": {
        "colab": {
          "base_uri": "https://localhost:8080/",
          "height": 444
        },
        "id": "uhYqFQQ-Sqfy",
        "outputId": "17492464-31c7-4624-ffc1-70ede99c9a9e"
      },
      "execution_count": null,
      "outputs": [
        {
          "output_type": "stream",
          "name": "stdout",
          "text": [
            "Accuracy = 0.97\n",
            "Recall = 0.98\n",
            "\n"
          ]
        },
        {
          "output_type": "display_data",
          "data": {
            "text/plain": [
              "<Figure size 576x432 with 2 Axes>"
            ],
            "image/png": "[encoded data removed]"
          },
          "metadata": {
            "needs_background": "light"
          }
        }
      ]
    },
    {
      "cell_type": "code",
      "source": [
        ""
      ],
      "metadata": {
        "id": "SU8zigMdrnFU"
      },
      "execution_count": null,
      "outputs": []
    },
    {
      "cell_type": "markdown",
      "metadata": {
        "id": "BoWFEfVD8nO_"
      },
      "source": [
        "## Conclusion "
      ]
    },
    {
      "cell_type": "markdown",
      "source": [
        "Meskipun tampaknya ada akurasi yang tinggi, saya menduga ada overfitting yang dapat diatur (untuk Random Forests) dengan mengoptimalkan turning parameter yang mengatur jumlah fitur yang dipilih secara acak untuk menumbuhkan setiap pohon dari data yang di-boot. \n",
        "\n",
        "Pendekatan pertama saya adalah k-fold cross validation di mana K berada di antara 5 dan 10, \n",
        "\n",
        "saya akan memilih turning parameter yang meminimalkan kesalahan prediksi sampel uji. \n",
        "\n",
        "Pendekatan lain yang mungkin adalah menumbuhkan ukuran Random Forests, namun saya perlu melangkah dengan ringan karena Random Forests umumnya sulit untuk dipasangkan."
      ],
      "metadata": {
        "id": "4Q7qxVZNT4uf"
      }
    },
    {
      "cell_type": "markdown",
      "source": [
        "#### Test Oversampling with K-Fold Cross Validation"
      ],
      "metadata": {
        "id": "67ZWwDpFnqOJ"
      }
    },
    {
      "cell_type": "code",
      "source": [
        "def calc_train_error(X_train, y_train, model):\n",
        "#     '''returns in-sample error for already fit model.'''\n",
        "    predictions = model.predict(X_train)\n",
        "    predictProba = model.predict_proba(X_train)\n",
        "    accuracy = accuracy_score(y_train, predictions)\n",
        "    f1 = f1_score(y_train, predictions, average='macro')\n",
        "    roc_auc = roc_auc_score(y_train, predictProba[:,1])\n",
        "    recall = recall_score(y_train, predictions)\n",
        "    precision = precision_score(y_train, predictions)\n",
        "    report = classification_report(y_train, predictions)\n",
        "    return { \n",
        "        'report': report, \n",
        "        'f1' : f1, \n",
        "        'roc': roc_auc, \n",
        "        'accuracy': accuracy,\n",
        "        'recall': recall,\n",
        "        'precision': precision\n",
        "    }\n",
        "    \n",
        "def calc_validation_error(X_test, y_test, model):\n",
        "#     '''returns out-of-sample error for already fit model.'''\n",
        "    predictions = model.predict(X_test)\n",
        "    predictProba = model.predict_proba(X_test)\n",
        "    accuracy = accuracy_score(y_test, predictions)\n",
        "    f1 = f1_score(y_test, predictions, average='macro')\n",
        "    roc_auc = roc_auc_score(y_test, predictProba[:,1])\n",
        "    recall = recall_score(y_test, predictions)\n",
        "    precision = precision_score(y_test, predictions)\n",
        "    report = classification_report(y_test, predictions)\n",
        "    return { \n",
        "        'report': report, \n",
        "        'f1' : f1, \n",
        "        'roc': roc_auc, \n",
        "        'accuracy': accuracy,\n",
        "        'recall': recall,\n",
        "        'precision': precision\n",
        "    }\n",
        "    \n",
        "def calc_metrics(X_train, y_train, X_test, y_test, model):\n",
        "#     '''fits model and returns the in-sample error and out-of-sample error'''\n",
        "    model.fit(X_train, y_train)\n",
        "    train_error = calc_train_error(X_train, y_train, model)\n",
        "    validation_error = calc_validation_error(X_test, y_test, model)\n",
        "    return train_error, validation_error"
      ],
      "metadata": {
        "id": "T9CLLqcVnrAD"
      },
      "execution_count": null,
      "outputs": []
    },
    {
      "cell_type": "code",
      "source": [
        "from sklearn.model_selection import StratifiedKFold\n",
        "\n",
        "K = 10\n",
        "kf = StratifiedKFold(n_splits=K, shuffle=True, random_state=42)"
      ],
      "metadata": {
        "id": "ZAfXoZ0png55"
      },
      "execution_count": null,
      "outputs": []
    }
  ],
  "metadata": {
    "kernelspec": {
      "display_name": "Python 3",
      "language": "python",
      "name": "python3"
    },
    "language_info": {
      "codemirror_mode": {
        "name": "ipython",
        "version": 3
      },
      "file_extension": ".py",
      "mimetype": "text/x-python",
      "name": "python",
      "nbconvert_exporter": "python",
      "pygments_lexer": "ipython3",
      "version": "3.7.6"
    },
    "colab": {
      "name": "CapstoneProject_Module3_Klasifikasi_Travel Insurance.ipynb",
      "provenance": [],
      "collapsed_sections": [],
      "include_colab_link": true
    }
  },
  "nbformat": 4,
  "nbformat_minor": 0
}